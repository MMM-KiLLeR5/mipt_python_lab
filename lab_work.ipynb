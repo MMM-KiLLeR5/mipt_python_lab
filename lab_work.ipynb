{
  "cells": [
    {
      "cell_type": "markdown",
      "metadata": {
        "id": "rloJD2luQnuQ"
      },
      "source": [
        "# Лабораторная работа"
      ]
    },
    {
      "cell_type": "markdown",
      "metadata": {
        "id": "xIZ02xiML9p_"
      },
      "source": [
        "Баллы за секции:\n",
        "- *Задание 1* - 10 баллов\n",
        "- *Задание 2* - 20 баллов\n",
        "- *Задание 3* - 30 баллов\n",
        "- **Итого** - 60 баллов\n",
        "\n",
        "Оценка за лабу $ = \\frac{score}{6}$"
      ]
    },
    {
      "cell_type": "markdown",
      "metadata": {
        "id": "OEDe7x8YRID0"
      },
      "source": [
        "## Внимание! Attention! Achtung!"
      ]
    },
    {
      "cell_type": "markdown",
      "metadata": {
        "id": "ZEmKA-7NR1Y9"
      },
      "source": [
        "**Данная лабораторная работа является блокирующей**, т.е. если лабораторная работа не выполнена, то оценка за курс - неуд.\n",
        "\n",
        "Лабораторная работа считается выполненной, если **за каждое из заданий получено не менее 2 баллов**."
      ]
    },
    {
      "cell_type": "markdown",
      "metadata": {
        "id": "N1ZbZ8dkR5q_"
      },
      "source": [
        "## Формат сдачи лабораторной работы"
      ]
    },
    {
      "cell_type": "markdown",
      "metadata": {
        "id": "tEwx7LLQR-h8"
      },
      "source": [
        "Данная лабораторная работа сдается так же, как и проект - заполняете данный ноутбук, отправляете его через GitHub с указанием проверяющего."
      ]
    },
    {
      "cell_type": "markdown",
      "metadata": {
        "id": "qKwaNCJKj7b8"
      },
      "source": [
        "**Ассистенты не будут запускать ячейки кода, а смотреть на выведенный результат и код. Если ячейка кода не запущена - балл не ставится, даже при правильно написанном коде.**\n",
        "\n",
        "***(Комментарии что курс по Python легче чем по C++ учтены)***"
      ]
    },
    {
      "cell_type": "markdown",
      "metadata": {
        "id": "hlUYK7MDRGye"
      },
      "source": [
        ">**Примечание**\n",
        ">\n",
        ">Данные задания вдохновлены предметом \"Введение в анализ данных\" 2 курса, по итогу которого идёт отбор на DS-поток. Если вы видите себя в смежных областях, советуем выполнить данную лабораторку по максимуму."
      ]
    },
    {
      "cell_type": "code",
      "execution_count": 6,
      "metadata": {
        "id": "1qzEqvohoZfB"
      },
      "outputs": [],
      "source": [
        "# Всё необходимое для выполнения данной лабораторной работы!\n",
        "import requests\n",
        "from time import sleep\n",
        "\n",
        "import numpy as np\n",
        "import pandas as pd\n",
        "import matplotlib.pyplot as plt\n",
        "import seaborn as sns"
      ]
    },
    {
      "cell_type": "markdown",
      "metadata": {
        "id": "rB_FYHU2k8w-"
      },
      "source": [
        "## Задание 1. Парсинг - 10 баллов"
      ]
    },
    {
      "cell_type": "markdown",
      "metadata": {
        "id": "F0gr5cjaoQJy"
      },
      "source": [
        "В этом задании Вам предстоит работать с API сайта <a target=\"_blank\" href=\"hh.ru\">hh.ru</a>. Документация доступна по <a target=\"_blank\" href=\"https://github.com/hhru/api/blob/master/docs/vacancies.md#search\">ссылке</a>."
      ]
    },
    {
      "cell_type": "markdown",
      "metadata": {
        "id": "v8iCQYk7TNvK"
      },
      "source": [
        "<b><font color=\"red\">Внимание!</font> При работе с API не забывайте делать паузы между запросами, иначе вас забанят. Просрочка дедлайна по этой причине не принимается!</b>"
      ]
    },
    {
      "cell_type": "markdown",
      "metadata": {
        "id": "-HAm80rqRqAZ"
      },
      "source": [
        "**Задача:**\n",
        "1. выбрать 5 интересующих вас профессий (не смежных, т.е. Аналатик и Data Engineer не считается корректным)\n",
        "2. затем получить доступные по данным профессиям вакансии в Москве и выделить их физические координаты\n",
        "3. нанести полученные координаты на карту местоположения компаний"
      ]
    },
    {
      "cell_type": "code",
      "execution_count": 7,
      "metadata": {
        "id": "aZLGoS_DpsXI"
      },
      "outputs": [],
      "source": [
        "URL = 'https://api.hh.ru/vacancies'\n",
        "\n",
        "params = {\n",
        "    'text': \"Учитель\",\n",
        "    'area': 1,\n",
        "    'page': 23,\n",
        "    'per_page': 10\n",
        "}\n",
        "\n",
        "data = requests.get(URL, params).json()"
      ]
    },
    {
      "cell_type": "markdown",
      "metadata": {
        "id": "yHQtIBRQp91_"
      },
      "source": [
        "Если Ваш запрос прошел успешно, то вы получите следующие ключи (значения данных ключей вы найдете по ссылке на документацию):"
      ]
    },
    {
      "cell_type": "code",
      "execution_count": 8,
      "metadata": {
        "colab": {
          "base_uri": "https://localhost:8080/"
        },
        "id": "DW6mxzggpvKw",
        "outputId": "a284ee47-486c-402a-fe26-88fa9677a98d"
      },
      "outputs": [
        {
          "data": {
            "text/plain": [
              "dict_keys(['items', 'found', 'pages', 'page', 'per_page', 'clusters', 'arguments', 'fixes', 'suggests', 'alternate_url'])"
            ]
          },
          "execution_count": 8,
          "metadata": {},
          "output_type": "execute_result"
        }
      ],
      "source": [
        "data.keys()"
      ]
    },
    {
      "cell_type": "markdown",
      "metadata": {
        "id": "O-qAwsmrTAvQ"
      },
      "source": [
        ">**Примечание**\n",
        ">\n",
        ">В `data['pages']` будет хранится количество найденных страниц вакансий - для корректного сбора данных Вам нужно пробежать по **КАЖДОЙ** странице и сделать соотвествующие запросы."
      ]
    },
    {
      "cell_type": "markdown",
      "metadata": {
        "id": "OEPOQVYxsMyN"
      },
      "source": [
        ">**Совет**\n",
        ">\n",
        ">Посмотрите что хранится в `items`!"
      ]
    },
    {
      "cell_type": "markdown",
      "metadata": {
        "id": "JWvkFrh9qhkj"
      },
      "source": [
        "(1 балл) Выберете для нас 5 наиболее интересных специальностей и получите по ним имеющиеся вакансии:"
      ]
    },
    {
      "cell_type": "code",
      "execution_count": 9,
      "metadata": {
        "id": "_Nm-vyiBqugq"
      },
      "outputs": [],
      "source": [
        "jobs = [\n",
        "    'Электромеханик',\n",
        "    'Питон разработчик',\n",
        "    'Охраник',\n",
        "    'Репетитор',\n",
        "    'Кассир'\n",
        "]\n",
        "\n",
        "params = {\n",
        "    'text': \"\",\n",
        "    'area': 1,\n",
        "    'page': 0,\n",
        "    'per_page': 10\n",
        "}\n",
        "\n",
        "all_vacancies = {}\n",
        "\n",
        "for job in jobs:\n",
        "    all_vacancies[job] = []\n",
        "    params['text'] = job\n",
        "    params['page'] = 0\n",
        "    data = requests.get(URL, params).json()\n",
        "    pages = data['pages']\n",
        "    sleep(0.5)\n",
        "    while params['page'] < pages:\n",
        "        all_vacancies[job].extend(data['items'])\n",
        "        params['page'] += 1\n",
        "        data = requests.get(URL, params).json()\n",
        "        if not 'pages' in data:\n",
        "            sleep(5)\n",
        "            data = requests.get(URL, params).json()\n",
        "        sleep(0.2)\n",
        "\n",
        "\n",
        "\n",
        "        \n",
        "\n",
        "\n"
      ]
    },
    {
      "cell_type": "markdown",
      "metadata": {
        "id": "g0bdgyNWquuY"
      },
      "source": [
        "(1 балл) Посчитайте сколько всего найдено вакансий:"
      ]
    },
    {
      "cell_type": "code",
      "execution_count": 27,
      "metadata": {},
      "outputs": [
        {
          "name": "stdout",
          "output_type": "stream",
          "text": [
            "Электромеханик 302\n",
            "Питон разработчик 6\n",
            "Охраник 2\n",
            "Репетитор 2000\n",
            "Кассир 2000\n"
          ]
        }
      ],
      "source": [
        "for key in all_vacancies:\n",
        "    print(key, len(all_vacancies[key]))"
      ]
    },
    {
      "cell_type": "code",
      "execution_count": 11,
      "metadata": {
        "id": "lxyXtIs6q5cc"
      },
      "outputs": [
        {
          "data": {
            "text/plain": [
              "4310"
            ]
          },
          "execution_count": 11,
          "metadata": {},
          "output_type": "execute_result"
        }
      ],
      "source": [
        "total_vacancies = len(all_vacancies[jobs[0]]) + len(all_vacancies[jobs[1]]) + len(all_vacancies[jobs[2]]) + len(all_vacancies[jobs[3]]) + len(all_vacancies[jobs[4]])\n",
        "total_vacancies"
      ]
    },
    {
      "cell_type": "markdown",
      "metadata": {
        "id": "wQeULnNyq5wk"
      },
      "source": [
        "(1 балл) Создайте структуру данных, которая будет хранить в себе имя компании и ее координаты (широта и долгота):"
      ]
    },
    {
      "cell_type": "code",
      "execution_count": 12,
      "metadata": {
        "id": "aR501yltVdLm"
      },
      "outputs": [],
      "source": [
        "class Company:\n",
        "        def __init__(self, company_name, longitude, latitude):\n",
        "                self.company_name = company_name\n",
        "                self.longitude = longitude\n",
        "                self.latitude = latitude"
      ]
    },
    {
      "cell_type": "markdown",
      "metadata": {
        "id": "ccIi3wIvVkG0"
      },
      "source": [
        "(1 балл) Создайте экземпляр этой структуры данных для каждой компании, которая выставила вакансию:"
      ]
    },
    {
      "cell_type": "code",
      "execution_count": 14,
      "metadata": {
        "id": "tR6mYW7jtcCQ"
      },
      "outputs": [
        {
          "data": {
            "text/plain": [
              "1608"
            ]
          },
          "execution_count": 14,
          "metadata": {},
          "output_type": "execute_result"
        }
      ],
      "source": [
        "employers = {}\n",
        "\n",
        "for vacancy in all_vacancies.values():\n",
        "    for one_vacancy in vacancy:\n",
        "        if not 'employer' in one_vacancy:\n",
        "            continue\n",
        " \n",
        "        company = one_vacancy['employer']\n",
        "        if not 'id' in company:\n",
        "            continue\n",
        "        company_id = company['id']\n",
        "\n",
        "        address = one_vacancy[\"address\"]\n",
        "\n",
        "        if address is None:\n",
        "            continue\n",
        "        company_obj = Company(company_name=company['name'],\n",
        "                              longitude=address['lng'],\n",
        "                              latitude=address['lat'])\n",
        "        employers[company_id] = company_obj\n",
        "\n",
        "\n",
        "len(employers)\n"
      ]
    },
    {
      "cell_type": "markdown",
      "metadata": {
        "id": "SyBpNd0vtcNu"
      },
      "source": [
        "(1 балл) Найдите количество вакансий, у которых заданы координаты (значения данных может быть пустым):"
      ]
    },
    {
      "cell_type": "code",
      "execution_count": 15,
      "metadata": {
        "id": "lVgNCVALt2qJ"
      },
      "outputs": [
        {
          "data": {
            "text/plain": [
              "1518"
            ]
          },
          "execution_count": 15,
          "metadata": {},
          "output_type": "execute_result"
        }
      ],
      "source": [
        "total_company_with_pos = 0\n",
        "for company in employers.values():\n",
        "    total_company_with_pos += 1 if company.longitude is not None and company.latitude is not None else 0\n",
        "total_company_with_pos"
      ]
    },
    {
      "cell_type": "markdown",
      "metadata": {
        "id": "aWNXrM-cu5Vi"
      },
      "source": [
        "(1 балл) Отберите вакансии, которые расположены в пределах МКАД (можно грубо):"
      ]
    },
    {
      "cell_type": "markdown",
      "metadata": {},
      "source": [
        "Будем рассматривать МКАД как прямоугольник:"
      ]
    },
    {
      "cell_type": "code",
      "execution_count": 16,
      "metadata": {
        "id": "01g9wVEyyn-J"
      },
      "outputs": [],
      "source": [
        "\n",
        "mkad_borders_lng_min = 37.368047 # съезд 59\n",
        "mkad_borders_lng_max = 37.840983 # съезд 13\n",
        "mkad_borders_lat_min = 55.572044 # съезд 81\n",
        "mkad_borders_lat_max = 55.908490 # съезд 29\n",
        "\n",
        "company_near_mkad = []\n",
        "\n",
        "for company in employers.values():\n",
        "    if company.longitude is None or company.latitude is  None:\n",
        "        continue\n",
        "    \n",
        "    if mkad_borders_lng_min < company.longitude < mkad_borders_lng_max and mkad_borders_lat_min < company.latitude < mkad_borders_lat_max:\n",
        "        company_near_mkad.append(company)\n",
        "\n"
      ]
    },
    {
      "cell_type": "markdown",
      "metadata": {
        "id": "4LCb9IL_bgB_"
      },
      "source": [
        "(1 балл) Постройте график в координатах \"широта-долгота\" для отображения вакансий внутри МКАД (не забывайте прописать прозрачность, чтобы увидеть скопления):"
      ]
    },
    {
      "cell_type": "code",
      "execution_count": 17,
      "metadata": {
        "id": "6ogiXDvKcDV8"
      },
      "outputs": [
        {
          "data": {
            "text/plain": [
              "<matplotlib.collections.PathCollection at 0x7f6b33a8c0b0>"
            ]
          },
          "execution_count": 17,
          "metadata": {},
          "output_type": "execute_result"
        },
        {
          "data": {
            "image/png": "[encoded data removed]",
            "text/plain": [
              "<Figure size 640x480 with 1 Axes>"
            ]
          },
          "metadata": {},
          "output_type": "display_data"
        }
      ],
      "source": [
        "lngs = []\n",
        "lats = []\n",
        "\n",
        "for company in company_near_mkad:\n",
        "    lngs.append(company.longitude)\n",
        "    lats.append(company.latitude)\n",
        "\n",
        "plt.scatter(x = lats, y = lngs, alpha = 0.16)"
      ]
    },
    {
      "cell_type": "markdown",
      "metadata": {
        "id": "YvS8b7eqt214"
      },
      "source": [
        "(1 балл) Нанесите все точки вакансий на карту (для этого вам поможет данная <a target=\"_blank\" href=\"https://plotly.com/python/mapbox-layers/\">документации</a>, не забудьте про прозрачность и центрирование по Москве):"
      ]
    },
    {
      "cell_type": "code",
      "execution_count": 22,
      "metadata": {
        "id": "1ceHEBdAys8o"
      },
      "outputs": [
        {
          "data": {
            "application/vnd.plotly.v1+json": {
              "config": {
                "plotlyServerURL": "https://plot.ly"
              },
              "data": [
                {
                  "hovertemplate": "<b>%{hovertext}</b><br><br>lat=%{lat}<br>lng=%{lon}<extra></extra>",
                  "hovertext": [
                    55.772168,
                    55.809171,
                    55.749101,
                    55.661714,
                    55.669254,
                    55.747622,
                    55.744622,
                    55.785124,
                    55.75438,
                    55.727207,
                    55.785802,
                    55.867748,
                    55.646914,
                    55.738571,
                    55.785944,
                    55.628866,
                    55.781509,
                    55.821097,
                    55.769854,
                    55.778765,
                    55.658149,
                    55.879888200679495,
                    55.852789,
                    55.720418,
                    55.818361,
                    55.786708,
                    55.783372,
                    55.618603,
                    55.826296,
                    55.801313,
                    55.620947,
                    55.675504,
                    55.773429,
                    55.805513,
                    55.769838,
                    55.818463,
                    55.774831,
                    55.650531,
                    55.800362,
                    55.747424,
                    55.804536,
                    55.720139,
                    55.812079,
                    55.74723295660558,
                    55.840027,
                    55.679433,
                    55.875804,
                    55.784303,
                    55.788976,
                    55.848539,
                    55.854875,
                    55.696889,
                    55.885241,
                    55.762753,
                    55.783266,
                    55.739129,
                    55.708902,
                    55.837343,
                    55.75576800652564,
                    55.707223,
                    55.696377,
                    55.837343,
                    55.775272,
                    55.748067,
                    55.635858,
                    55.734891,
                    55.789998,
                    55.701856,
                    55.79014,
                    55.712751,
                    55.757085,
                    55.657367,
                    55.743629,
                    55.790231,
                    55.78651,
                    55.703505,
                    55.776451,
                    55.589793,
                    55.779555,
                    55.777393,
                    55.751969,
                    55.841508,
                    55.736199,
                    55.805776,
                    55.781499,
                    55.726604,
                    55.689689,
                    55.808756,
                    55.673646,
                    55.902035,
                    55.773707,
                    55.886807,
                    55.633912,
                    55.715606,
                    55.69212,
                    55.755864,
                    55.800863,
                    55.734704,
                    55.903691,
                    55.667345,
                    55.769504,
                    55.73146,
                    55.802179,
                    55.760981,
                    55.723977,
                    55.741657,
                    55.596325,
                    55.699766,
                    55.676149,
                    55.606182,
                    55.776613,
                    55.867359,
                    55.780846,
                    55.860095,
                    55.770877,
                    55.606614,
                    55.771206,
                    55.860455000643796,
                    55.697128,
                    55.757982,
                    55.789608,
                    55.749182,
                    55.787695,
                    55.768527,
                    55.799937,
                    55.752404,
                    55.708841,
                    55.808134,
                    55.634852,
                    55.864005,
                    55.778558,
                    55.715961,
                    55.74330547406595,
                    55.788657,
                    55.796597,
                    55.723577,
                    55.619493,
                    55.704844,
                    55.736904,
                    55.677387,
                    55.622243,
                    55.72834014892578,
                    55.745129,
                    55.721934,
                    55.6463892708446,
                    55.805776,
                    55.695611,
                    55.655884,
                    55.76733672624282,
                    55.735825628949186,
                    55.75395,
                    55.729458,
                    55.759157,
                    55.72961,
                    55.653304,
                    55.707765,
                    55.799173,
                    55.600684,
                    55.781772,
                    55.765311,
                    55.712766,
                    55.76721,
                    55.672219,
                    55.668879,
                    55.750028,
                    55.762287,
                    55.606736,
                    55.833749,
                    55.761092,
                    55.679296,
                    55.766283,
                    55.682651,
                    55.69226023177375,
                    55.680047,
                    55.67961,
                    55.78161,
                    55.75633,
                    55.789441,
                    55.682209,
                    55.631707,
                    55.707294,
                    55.73703,
                    55.889361,
                    55.764759,
                    55.793331146240234,
                    55.875127,
                    55.683924,
                    55.749646,
                    55.765584,
                    55.799153,
                    55.770689,
                    55.583205,
                    55.742605,
                    55.866081,
                    55.80438,
                    55.90012368756015,
                    55.7536,
                    55.680534,
                    55.749633,
                    55.771575,
                    55.682991,
                    55.864308,
                    55.760661,
                    55.719399,
                    55.733827,
                    55.759999999987414,
                    55.724489,
                    55.693333,
                    55.712066,
                    55.653101,
                    55.780861,
                    55.765083,
                    55.658804,
                    55.739868,
                    55.7407,
                    55.815119,
                    55.645852,
                    55.749646,
                    55.738242,
                    55.797194,
                    55.81424170882929,
                    55.742892144394986,
                    55.719095,
                    55.743466,
                    55.788525,
                    55.76484,
                    55.855022,
                    55.854193,
                    55.718162,
                    55.613692,
                    55.802179,
                    55.75576800652564,
                    55.755257,
                    55.895242,
                    55.771621,
                    55.594591,
                    55.732352,
                    55.677661,
                    55.69215,
                    55.755697,
                    55.713659,
                    55.75553,
                    55.725519,
                    55.856098,
                    55.703992,
                    55.794614,
                    55.785787,
                    55.777758,
                    55.701673,
                    55.875763,
                    55.859266,
                    55.618725,
                    55.753544,
                    55.764891,
                    55.633821,
                    55.648164,
                    55.755626,
                    55.652791,
                    55.851449,
                    55.669249,
                    55.687934,
                    55.660424,
                    55.58551,
                    55.64318,
                    55.631346,
                    55.715849,
                    55.788075,
                    55.74597,
                    55.820622,
                    55.743005,
                    55.783453,
                    55.885241,
                    55.614129,
                    55.592088,
                    55.660511,
                    55.63318,
                    55.738591,
                    55.868309,
                    55.748944,
                    55.765493,
                    55.799674,
                    55.826342,
                    55.697691,
                    55.790853,
                    55.804471,
                    55.743137,
                    55.64603,
                    55.740304,
                    55.589227734305936,
                    55.862767,
                    55.837692,
                    55.799107,
                    55.648057,
                    55.821097,
                    55.732241,
                    55.736113,
                    55.7110580810468,
                    55.697691,
                    55.862206,
                    55.749633,
                    55.738353,
                    55.752703,
                    55.649347,
                    55.668346,
                    55.753453,
                    55.896766,
                    55.760155,
                    55.695804,
                    55.763457,
                    55.827838,
                    55.758742,
                    55.73406,
                    55.70706,
                    55.778801,
                    55.745073,
                    55.781448,
                    55.878536,
                    55.804127,
                    55.791273,
                    55.584823,
                    55.679057,
                    55.764972,
                    55.74938,
                    55.677813,
                    55.672808,
                    55.844758,
                    55.845865,
                    55.76446,
                    55.589208,
                    55.751133,
                    55.677133,
                    55.64250370901242,
                    55.703794,
                    55.809884,
                    55.790049,
                    55.664837,
                    55.811508,
                    55.776289,
                    55.725894,
                    55.839615504259996,
                    55.764065,
                    55.716671,
                    55.73290321246935,
                    55.664299,
                    55.810373339244805,
                    55.604748,
                    55.763614,
                    55.724312,
                    55.749557,
                    55.794426,
                    55.708303,
                    55.81868,
                    55.647452,
                    55.781307,
                    55.677996,
                    55.739853,
                    55.607875,
                    55.683199,
                    55.753539,
                    55.733700494671446,
                    55.826989,
                    55.765909,
                    55.719972,
                    55.736184,
                    55.885287,
                    55.857947,
                    55.756842,
                    55.76522,
                    55.737375,
                    55.602983,
                    55.783595,
                    55.762024,
                    55.752708,
                    55.775297,
                    55.747439,
                    55.755864,
                    55.765716,
                    55.834896,
                    55.798581,
                    55.807268,
                    55.800873,
                    55.702982,
                    55.724789,
                    55.844207,
                    55.748979,
                    55.725803,
                    55.760859,
                    55.781433,
                    55.774174568296736,
                    55.796931,
                    55.604214,
                    55.755864,
                    55.896105,
                    55.760585,
                    55.755864,
                    55.835048,
                    55.784364,
                    55.661455,
                    55.834992,
                    55.811174,
                    55.72658181750229,
                    55.801081,
                    55.80605737766596,
                    55.858943,
                    55.765574,
                    55.755452040594356,
                    55.76132,
                    55.78646,
                    55.764404,
                    55.757212,
                    55.755864,
                    55.743553,
                    55.837181,
                    55.849004,
                    55.87438,
                    55.612329,
                    55.649962,
                    55.791177,
                    55.636361,
                    55.76209,
                    55.686858,
                    55.706548,
                    55.826948,
                    55.793434143066406,
                    55.733011,
                    55.689608,
                    55.790464,
                    55.90146,
                    55.776608,
                    55.83699003021442,
                    55.759461,
                    55.729625,
                    55.712061,
                    55.785437,
                    55.670021,
                    55.744526,
                    55.590343,
                    55.628347,
                    55.764997,
                    55.74888705135923,
                    55.88558,
                    55.785782,
                    55.86155,
                    55.676336,
                    55.581469,
                    55.651978,
                    55.803691,
                    55.89553,
                    55.790924,
                    55.776234,
                    55.73556,
                    55.822554,
                    55.6462943360509,
                    55.844738,
                    55.728692,
                    55.75899,
                    55.612934,
                    55.651135,
                    55.736812,
                    55.750808,
                    55.766126,
                    55.71373,
                    55.738591,
                    55.753418,
                    55.708415,
                    55.802761,
                    55.755636,
                    55.852076,
                    55.7899861467342,
                    55.773459,
                    55.727247,
                    55.871602,
                    55.821861,
                    55.862767,
                    55.67804593747905,
                    55.680763,
                    55.856265,
                    55.695804,
                    55.7381,
                    55.73037,
                    55.809884,
                    55.704981,
                    55.7249,
                    55.660237,
                    55.725625,
                    55.713304,
                    55.88456,
                    55.747485,
                    55.806191,
                    55.654823,
                    55.727004,
                    55.682651,
                    55.709449,
                    55.715936,
                    55.806702,
                    55.75555821829026,
                    55.726984,
                    55.708496,
                    55.612182,
                    55.59765010866539,
                    55.738784,
                    55.748675,
                    55.80481,
                    55.775383,
                    55.794887,
                    55.662151,
                    55.669823,
                    55.657814,
                    55.751244,
                    55.621119,
                    55.718177,
                    55.620337,
                    55.746431,
                    55.770583,
                    55.676103,
                    55.702815,
                    55.762581,
                    55.733802,
                    55.739559,
                    55.733579,
                    55.716174,
                    55.791223,
                    55.840492,
                    55.768248,
                    55.809115,
                    55.695454,
                    55.60672434454783,
                    55.573327,
                    55.816085,
                    55.86705017089844,
                    55.760591,
                    55.878273,
                    55.684509061076035,
                    55.721032,
                    55.752455,
                    55.672615,
                    55.692232,
                    55.718461,
                    55.888296,
                    55.766658,
                    55.610224,
                    55.782987,
                    55.795818,
                    55.75436169088017,
                    55.771737,
                    55.84024,
                    55.885549,
                    55.792119,
                    55.700806,
                    55.60399,
                    55.682209,
                    55.807805,
                    55.82002,
                    55.658586,
                    55.75133,
                    55.807956,
                    55.733346,
                    55.897251,
                    55.73942373574502,
                    55.753787,
                    55.726497,
                    55.759496,
                    55.593187,
                    55.760287,
                    55.797124,
                    55.752587,
                    55.743532,
                    55.793915,
                    55.776527,
                    55.644694,
                    55.735713,
                    55.707644,
                    55.661308,
                    55.653853,
                    55.739397,
                    55.704448,
                    55.80105,
                    55.599926,
                    55.742828,
                    55.727136,
                    55.708902,
                    55.858872,
                    55.769256,
                    55.787487,
                    55.738642,
                    55.691557,
                    55.622014,
                    55.792589,
                    55.685833,
                    55.76285,
                    55.653944,
                    55.780289,
                    55.63759933383006,
                    55.740634,
                    55.851581,
                    55.737922,
                    55.804359,
                    55.69351,
                    55.784663,
                    55.727851,
                    55.889058,
                    55.753544,
                    55.764759,
                    55.811872,
                    55.688649,
                    55.69230425681363,
                    55.794472,
                    55.656438,
                    55.737862,
                    55.824314,
                    55.822878,
                    55.67579799961511,
                    55.844036,
                    55.727739,
                    55.741237,
                    55.803788,
                    55.794614,
                    55.756665,
                    55.712553,
                    55.810835,
                    55.77338635557353,
                    55.707953,
                    55.733041,
                    55.697052,
                    55.757222,
                    55.712477,
                    55.723749,
                    55.665426,
                    55.801374,
                    55.720068,
                    55.708354,
                    55.791248,
                    55.79059,
                    55.612614,
                    55.672082,
                    55.730527,
                    55.604122,
                    55.749674,
                    55.755864,
                    55.794497,
                    55.7844,
                    55.669615,
                    55.852435,
                    55.64665,
                    55.704813,
                    55.825371,
                    55.779813,
                    55.786262,
                    55.744298,
                    55.682808,
                    55.740654,
                    55.674595,
                    55.781676,
                    55.767899,
                    55.696123,
                    55.728003,
                    55.782476,
                    55.72233,
                    55.773525,
                    55.623315,
                    55.753848,
                    55.74597,
                    55.848321,
                    55.768841,
                    55.693627,
                    55.735895,
                    55.872521,
                    55.705858,
                    55.857604,
                    55.574879,
                    55.757901,
                    55.694819,
                    55.746679,
                    55.782623,
                    55.776127,
                    55.643744,
                    55.754704,
                    55.716874,
                    55.636641,
                    55.797862,
                    55.718065,
                    55.780218,
                    55.67258,
                    55.781575,
                    55.79439546143089,
                    55.750864,
                    55.782071,
                    55.612146,
                    55.757288,
                    55.756173,
                    55.718375,
                    55.747272,
                    55.784622,
                    55.73182,
                    55.702987,
                    55.751351,
                    55.71307,
                    55.76038092924618,
                    55.76719,
                    55.764592,
                    55.756371,
                    55.738799,
                    55.789208,
                    55.796294,
                    55.770471,
                    55.759724,
                    55.75912095593183,
                    55.790464,
                    55.722299,
                    55.683625,
                    55.72747598609252,
                    55.845648,
                    55.775864,
                    55.735728,
                    55.70637130737305,
                    55.616554,
                    55.750499,
                    55.825001,
                    55.705011,
                    55.743928,
                    55.761757559179024,
                    55.743183,
                    55.8601025423157,
                    55.753083,
                    55.746233,
                    55.782658,
                    55.663024,
                    55.774527,
                    55.765093,
                    55.744637,
                    55.832293,
                    55.869814,
                    55.738242,
                    55.76053,
                    55.887766,
                    55.744622,
                    55.760074,
                    55.621607,
                    55.884757,
                    55.673042,
                    55.747622,
                    55.832955,
                    55.754927,
                    55.692485,
                    55.73403,
                    55.765265,
                    55.622151,
                    55.752156,
                    55.887109,
                    55.766805,
                    55.823216,
                    55.6438,
                    55.738596,
                    55.755388,
                    55.719607,
                    55.726609,
                    55.747135,
                    55.739052,
                    55.743446,
                    55.623788,
                    55.779778,
                    55.663842,
                    55.74222,
                    55.762024,
                    55.750535,
                    55.835422,
                    55.889467,
                    55.73368,
                    55.749633,
                    55.767306,
                    55.716519,
                    55.768025,
                    55.746922,
                    55.796137,
                    55.765924,
                    55.863171,
                    55.76837,
                    55.705452,
                    55.75491780357639,
                    55.747089,
                    55.73441,
                    55.780213,
                    55.739645,
                    55.794401,
                    55.809469,
                    55.71323560142409,
                    55.761624,
                    55.738708,
                    55.823707,
                    55.80587168489378,
                    55.778654,
                    55.762399,
                    55.644145,
                    55.834911,
                    55.70786541534598,
                    55.75576800652564,
                    55.779565,
                    55.703606,
                    55.777034,
                    55.74673,
                    55.707796,
                    55.802563,
                    55.836843,
                    55.82835577283728,
                    55.758949,
                    55.84072,
                    55.731014,
                    55.651775,
                    55.75322,
                    55.767803,
                    55.78784335543345,
                    55.742316,
                    55.743147,
                    55.770806,
                    55.76759,
                    55.799937,
                    55.742265,
                    55.732225,
                    55.709495,
                    55.734618,
                    55.803282,
                    55.777358,
                    55.79018,
                    55.612146,
                    55.707491,
                    55.686645,
                    55.854891,
                    55.581877,
                    55.701633,
                    55.772674,
                    55.868425,
                    55.765655,
                    55.755864,
                    55.802042,
                    55.736341,
                    55.755074,
                    55.594591,
                    55.760089,
                    55.75999999998115,
                    55.70067259202771,
                    55.706959,
                    55.699538,
                    55.703976,
                    55.845855,
                    55.791582,
                    55.80398,
                    55.656849,
                    55.722203,
                    55.809474,
                    55.67894,
                    55.7637,
                    55.745392,
                    55.669224,
                    55.651511,
                    55.756842,
                    55.817431,
                    55.744632,
                    55.730482,
                    55.839461,
                    55.769833,
                    55.697985,
                    55.74564,
                    55.74448,
                    55.710814,
                    55.780218,
                    55.828465,
                    55.852147,
                    55.756726,
                    55.790231,
                    55.767995,
                    55.633897,
                    55.76526,
                    55.746593,
                    55.825001,
                    55.70892980940311,
                    55.775753,
                    55.806216,
                    55.789396,
                    55.761725,
                    55.792361,
                    55.621404,
                    55.71307,
                    55.86208,
                    55.871183,
                    55.749891,
                    55.794811,
                    55.69006,
                    55.782932,
                    55.677763,
                    55.68264,
                    55.622324,
                    55.790231,
                    55.758448,
                    55.761036,
                    55.65000486327164,
                    55.675022,
                    55.789704,
                    55.847851,
                    55.726487,
                    55.753625,
                    55.75186093403699,
                    55.597007,
                    55.705072,
                    55.769676,
                    55.7613,
                    55.770476,
                    55.691963,
                    55.578731802771856,
                    55.790231,
                    55.61931961213422,
                    55.87107537337067,
                    55.685148510062,
                    55.685731,
                    55.709307,
                    55.773398,
                    55.792265,
                    55.612182,
                    55.655356,
                    55.766749,
                    55.830326,
                    55.753215,
                    55.597246,
                    55.766618,
                    55.7903173777539,
                    55.740421,
                    55.664593,
                    55.684168,
                    55.780279,
                    55.753635,
                    55.734922,
                    55.75322,
                    55.58669,
                    55.690106,
                    55.661638,
                    55.785361,
                    55.61066763951762,
                    55.76930405200545,
                    55.797716,
                    55.814614,
                    55.707395,
                    55.850995,
                    55.780416,
                    55.824926,
                    55.777373,
                    55.617225,
                    55.705072,
                    55.714125,
                    55.78316706459049,
                    55.741617,
                    55.755864,
                    55.825664,
                    55.710692,
                    55.654076,
                    55.762044,
                    55.747586,
                    55.767337,
                    55.748762,
                    55.803934,
                    55.73925,
                    55.680311,
                    55.800878,
                    55.823216,
                    55.756189,
                    55.792807,
                    55.721757,
                    55.765078,
                    55.618756,
                    55.778676822594946,
                    55.721392,
                    55.712594,
                    55.572182,
                    55.773322,
                    55.706401,
                    55.651354,
                    55.766749,
                    55.649347,
                    55.772436,
                    55.883873,
                    55.6508355,
                    55.6692615766585,
                    55.684503,
                    55.790231,
                    55.782744,
                    55.731409,
                    55.752658,
                    55.845855,
                    55.775768,
                    55.823029,
                    55.773413,
                    55.787872,
                    55.654462,
                    55.766101,
                    55.790231,
                    55.718689,
                    55.727719,
                    55.790231,
                    55.612111,
                    55.869571,
                    55.866672,
                    55.765412,
                    55.748285,
                    55.719166,
                    55.741059,
                    55.752901,
                    55.72522,
                    55.784152,
                    55.845734,
                    55.739549,
                    55.82663,
                    55.754547,
                    55.893051,
                    55.724292,
                    55.611104,
                    55.756842,
                    55.759101,
                    55.741571,
                    55.682706,
                    55.72559,
                    55.740943,
                    55.811007,
                    55.704098,
                    55.777388,
                    55.754725,
                    55.590877682291215,
                    55.621811,
                    55.77799425397781,
                    55.790231,
                    55.653319,
                    55.805528,
                    55.746274,
                    55.754694,
                    55.76727653993129,
                    55.851571,
                    55.681767,
                    55.757009,
                    55.887695,
                    55.781053,
                    55.755864,
                    55.795145,
                    55.757936,
                    55.744637,
                    55.727506,
                    55.677692,
                    55.796785,
                    55.860928,
                    55.802179,
                    55.775965,
                    55.601956,
                    55.699269,
                    55.747115,
                    55.731024,
                    55.740872,
                    55.766172,
                    55.834234,
                    55.79103,
                    55.843763,
                    55.763741,
                    55.724728,
                    55.771261,
                    55.709931,
                    55.728003,
                    55.632144,
                    55.74047926397357,
                    55.735844,
                    55.617271,
                    55.678081911490246,
                    55.776618,
                    55.740639,
                    55.744997,
                    55.770401,
                    55.782198,
                    55.770851,
                    55.742113,
                    55.574711,
                    55.738596,
                    55.629531,
                    55.85008,
                    55.750808,
                    55.743649,
                    55.749162,
                    55.728241,
                    55.66951914618675,
                    55.7802575999632,
                    55.757131,
                    55.731014,
                    55.708075,
                    55.658764,
                    55.754329,
                    55.756143,
                    55.759866,
                    55.75576800652564,
                    55.74597,
                    55.682701,
                    55.623788,
                    55.811229,
                    55.705042,
                    55.777099,
                    55.712528,
                    55.682651,
                    55.745934,
                    55.817714,
                    55.612329,
                    55.694363,
                    55.741105,
                    55.779707,
                    55.823216,
                    55.741972,
                    55.705924,
                    55.644755,
                    55.744703,
                    55.705645,
                    55.787224,
                    55.853071043390166,
                    55.843631,
                    55.755804,
                    55.589305,
                    55.780036,
                    55.628047,
                    55.755864,
                    55.618939,
                    55.782967,
                    55.721184,
                    55.668935,
                    55.757648,
                    55.581400062427996,
                    55.780218,
                    55.604483,
                    55.78562302828297,
                    55.649332,
                    55.759618,
                    55.693931,
                    55.73306580882099,
                    55.758924,
                    55.67962,
                    55.61976585562341,
                    55.796562,
                    55.731014,
                    55.739017,
                    55.663349,
                    55.805862,
                    55.699588,
                    55.769773,
                    55.623112,
                    55.75396,
                    55.737922,
                    55.781545,
                    55.790231,
                    55.680984,
                    55.746481,
                    55.783266,
                    55.765909,
                    55.723247,
                    55.732286,
                    55.770471,
                    55.708552,
                    55.810966,
                    55.749486,
                    55.75745,
                    55.84606056591238,
                    55.783919,
                    55.777449,
                    55.83252913130291,
                    55.736012,
                    55.820936,
                    55.763189,
                    55.800595,
                    55.770178,
                    55.705037,
                    55.70286,
                    55.731303,
                    55.653797,
                    55.760591,
                    55.605236,
                    55.742894,
                    55.847437,
                    55.753777,
                    55.720413,
                    55.744632,
                    55.807491,
                    55.731566,
                    55.705042,
                    55.840245,
                    55.710631,
                    55.591549,
                    55.710362,
                    55.838,
                    55.708384,
                    55.710692,
                    55.738551,
                    55.598868,
                    55.753737,
                    55.661486,
                    55.77435,
                    55.670021,
                    55.821032,
                    55.75811767578125,
                    55.815696,
                    55.77487954165147,
                    55.804638,
                    55.79224,
                    55.707299,
                    55.683518,
                    55.79613463807388,
                    55.729397,
                    55.875006,
                    55.776077,
                    55.594591,
                    55.75592049778832,
                    55.596991,
                    55.664248,
                    55.705696,
                    55.731019,
                    55.721848,
                    55.744632,
                    55.75576800652564,
                    55.757384,
                    55.640543,
                    55.757176,
                    55.7385,
                    55.81160449523241,
                    55.676301,
                    55.822878,
                    55.621816,
                    55.706152,
                    55.887014,
                    55.780213,
                    55.879324,
                    55.858887,
                    55.743193,
                    55.744632,
                    55.727932,
                    55.723861,
                    55.714506,
                    55.823216,
                    55.755864,
                    55.77990949162061,
                    55.621719,
                    55.777753,
                    55.643139,
                    55.774664,
                    55.704849,
                    55.755864,
                    55.615248,
                    55.86413400725827,
                    55.823216,
                    55.709155,
                    55.65133790371632,
                    55.793581,
                    55.747363,
                    55.749248,
                    55.75704,
                    55.761948,
                    55.663404556054374,
                    55.809474,
                    55.67058,
                    55.656849,
                    55.6696302292371,
                    55.731353,
                    55.88376515248707,
                    55.739752,
                    55.710296,
                    55.705072,
                    55.799077,
                    55.842888,
                    55.720895,
                    55.65015,
                    55.731663,
                    55.67422,
                    55.811007,
                    55.718796,
                    55.773753,
                    55.79973,
                    55.807005,
                    55.749633,
                    55.792807,
                    55.621816,
                    55.699908,
                    55.774755,
                    55.841963,
                    55.860105,
                    55.612619,
                    55.809338,
                    55.572905,
                    55.792827,
                    55.78197,
                    55.67559,
                    55.581088,
                    55.776527
                  ],
                  "lat": [
                    55.772168,
                    55.809171,
                    55.749101,
                    55.661714,
                    55.669254,
                    55.747622,
                    55.744622,
                    55.785124,
                    55.75438,
                    55.727207,
                    55.785802,
                    55.867748,
                    55.646914,
                    55.738571,
                    55.785944,
                    55.628866,
                    55.781509,
                    55.821097,
                    55.769854,
                    55.778765,
                    55.658149,
                    55.879888200679495,
                    55.852789,
                    55.720418,
                    55.818361,
                    55.786708,
                    55.783372,
                    55.618603,
                    55.826296,
                    55.801313,
                    55.620947,
                    55.675504,
                    55.773429,
                    55.805513,
                    55.769838,
                    55.818463,
                    55.774831,
                    55.650531,
                    55.800362,
                    55.747424,
                    55.804536,
                    55.720139,
                    55.812079,
                    55.74723295660558,
                    55.840027,
                    55.679433,
                    55.875804,
                    55.784303,
                    55.788976,
                    55.848539,
                    55.854875,
                    55.696889,
                    55.885241,
                    55.762753,
                    55.783266,
                    55.739129,
                    55.708902,
                    55.837343,
                    55.75576800652564,
                    55.707223,
                    55.696377,
                    55.837343,
                    55.775272,
                    55.748067,
                    55.635858,
                    55.734891,
                    55.789998,
                    55.701856,
                    55.79014,
                    55.712751,
                    55.757085,
                    55.657367,
                    55.743629,
                    55.790231,
                    55.78651,
                    55.703505,
                    55.776451,
                    55.589793,
                    55.779555,
                    55.777393,
                    55.751969,
                    55.841508,
                    55.736199,
                    55.805776,
                    55.781499,
                    55.726604,
                    55.689689,
                    55.808756,
                    55.673646,
                    55.902035,
                    55.773707,
                    55.886807,
                    55.633912,
                    55.715606,
                    55.69212,
                    55.755864,
                    55.800863,
                    55.734704,
                    55.903691,
                    55.667345,
                    55.769504,
                    55.73146,
                    55.802179,
                    55.760981,
                    55.723977,
                    55.741657,
                    55.596325,
                    55.699766,
                    55.676149,
                    55.606182,
                    55.776613,
                    55.867359,
                    55.780846,
                    55.860095,
                    55.770877,
                    55.606614,
                    55.771206,
                    55.860455000643796,
                    55.697128,
                    55.757982,
                    55.789608,
                    55.749182,
                    55.787695,
                    55.768527,
                    55.799937,
                    55.752404,
                    55.708841,
                    55.808134,
                    55.634852,
                    55.864005,
                    55.778558,
                    55.715961,
                    55.74330547406595,
                    55.788657,
                    55.796597,
                    55.723577,
                    55.619493,
                    55.704844,
                    55.736904,
                    55.677387,
                    55.622243,
                    55.72834014892578,
                    55.745129,
                    55.721934,
                    55.6463892708446,
                    55.805776,
                    55.695611,
                    55.655884,
                    55.76733672624282,
                    55.735825628949186,
                    55.75395,
                    55.729458,
                    55.759157,
                    55.72961,
                    55.653304,
                    55.707765,
                    55.799173,
                    55.600684,
                    55.781772,
                    55.765311,
                    55.712766,
                    55.76721,
                    55.672219,
                    55.668879,
                    55.750028,
                    55.762287,
                    55.606736,
                    55.833749,
                    55.761092,
                    55.679296,
                    55.766283,
                    55.682651,
                    55.69226023177375,
                    55.680047,
                    55.67961,
                    55.78161,
                    55.75633,
                    55.789441,
                    55.682209,
                    55.631707,
                    55.707294,
                    55.73703,
                    55.889361,
                    55.764759,
                    55.793331146240234,
                    55.875127,
                    55.683924,
                    55.749646,
                    55.765584,
                    55.799153,
                    55.770689,
                    55.583205,
                    55.742605,
                    55.866081,
                    55.80438,
                    55.90012368756015,
                    55.7536,
                    55.680534,
                    55.749633,
                    55.771575,
                    55.682991,
                    55.864308,
                    55.760661,
                    55.719399,
                    55.733827,
                    55.759999999987414,
                    55.724489,
                    55.693333,
                    55.712066,
                    55.653101,
                    55.780861,
                    55.765083,
                    55.658804,
                    55.739868,
                    55.7407,
                    55.815119,
                    55.645852,
                    55.749646,
                    55.738242,
                    55.797194,
                    55.81424170882929,
                    55.742892144394986,
                    55.719095,
                    55.743466,
                    55.788525,
                    55.76484,
                    55.855022,
                    55.854193,
                    55.718162,
                    55.613692,
                    55.802179,
                    55.75576800652564,
                    55.755257,
                    55.895242,
                    55.771621,
                    55.594591,
                    55.732352,
                    55.677661,
                    55.69215,
                    55.755697,
                    55.713659,
                    55.75553,
                    55.725519,
                    55.856098,
                    55.703992,
                    55.794614,
                    55.785787,
                    55.777758,
                    55.701673,
                    55.875763,
                    55.859266,
                    55.618725,
                    55.753544,
                    55.764891,
                    55.633821,
                    55.648164,
                    55.755626,
                    55.652791,
                    55.851449,
                    55.669249,
                    55.687934,
                    55.660424,
                    55.58551,
                    55.64318,
                    55.631346,
                    55.715849,
                    55.788075,
                    55.74597,
                    55.820622,
                    55.743005,
                    55.783453,
                    55.885241,
                    55.614129,
                    55.592088,
                    55.660511,
                    55.63318,
                    55.738591,
                    55.868309,
                    55.748944,
                    55.765493,
                    55.799674,
                    55.826342,
                    55.697691,
                    55.790853,
                    55.804471,
                    55.743137,
                    55.64603,
                    55.740304,
                    55.589227734305936,
                    55.862767,
                    55.837692,
                    55.799107,
                    55.648057,
                    55.821097,
                    55.732241,
                    55.736113,
                    55.7110580810468,
                    55.697691,
                    55.862206,
                    55.749633,
                    55.738353,
                    55.752703,
                    55.649347,
                    55.668346,
                    55.753453,
                    55.896766,
                    55.760155,
                    55.695804,
                    55.763457,
                    55.827838,
                    55.758742,
                    55.73406,
                    55.70706,
                    55.778801,
                    55.745073,
                    55.781448,
                    55.878536,
                    55.804127,
                    55.791273,
                    55.584823,
                    55.679057,
                    55.764972,
                    55.74938,
                    55.677813,
                    55.672808,
                    55.844758,
                    55.845865,
                    55.76446,
                    55.589208,
                    55.751133,
                    55.677133,
                    55.64250370901242,
                    55.703794,
                    55.809884,
                    55.790049,
                    55.664837,
                    55.811508,
                    55.776289,
                    55.725894,
                    55.839615504259996,
                    55.764065,
                    55.716671,
                    55.73290321246935,
                    55.664299,
                    55.810373339244805,
                    55.604748,
                    55.763614,
                    55.724312,
                    55.749557,
                    55.794426,
                    55.708303,
                    55.81868,
                    55.647452,
                    55.781307,
                    55.677996,
                    55.739853,
                    55.607875,
                    55.683199,
                    55.753539,
                    55.733700494671446,
                    55.826989,
                    55.765909,
                    55.719972,
                    55.736184,
                    55.885287,
                    55.857947,
                    55.756842,
                    55.76522,
                    55.737375,
                    55.602983,
                    55.783595,
                    55.762024,
                    55.752708,
                    55.775297,
                    55.747439,
                    55.755864,
                    55.765716,
                    55.834896,
                    55.798581,
                    55.807268,
                    55.800873,
                    55.702982,
                    55.724789,
                    55.844207,
                    55.748979,
                    55.725803,
                    55.760859,
                    55.781433,
                    55.774174568296736,
                    55.796931,
                    55.604214,
                    55.755864,
                    55.896105,
                    55.760585,
                    55.755864,
                    55.835048,
                    55.784364,
                    55.661455,
                    55.834992,
                    55.811174,
                    55.72658181750229,
                    55.801081,
                    55.80605737766596,
                    55.858943,
                    55.765574,
                    55.755452040594356,
                    55.76132,
                    55.78646,
                    55.764404,
                    55.757212,
                    55.755864,
                    55.743553,
                    55.837181,
                    55.849004,
                    55.87438,
                    55.612329,
                    55.649962,
                    55.791177,
                    55.636361,
                    55.76209,
                    55.686858,
                    55.706548,
                    55.826948,
                    55.793434143066406,
                    55.733011,
                    55.689608,
                    55.790464,
                    55.90146,
                    55.776608,
                    55.83699003021442,
                    55.759461,
                    55.729625,
                    55.712061,
                    55.785437,
                    55.670021,
                    55.744526,
                    55.590343,
                    55.628347,
                    55.764997,
                    55.74888705135923,
                    55.88558,
                    55.785782,
                    55.86155,
                    55.676336,
                    55.581469,
                    55.651978,
                    55.803691,
                    55.89553,
                    55.790924,
                    55.776234,
                    55.73556,
                    55.822554,
                    55.6462943360509,
                    55.844738,
                    55.728692,
                    55.75899,
                    55.612934,
                    55.651135,
                    55.736812,
                    55.750808,
                    55.766126,
                    55.71373,
                    55.738591,
                    55.753418,
                    55.708415,
                    55.802761,
                    55.755636,
                    55.852076,
                    55.7899861467342,
                    55.773459,
                    55.727247,
                    55.871602,
                    55.821861,
                    55.862767,
                    55.67804593747905,
                    55.680763,
                    55.856265,
                    55.695804,
                    55.7381,
                    55.73037,
                    55.809884,
                    55.704981,
                    55.7249,
                    55.660237,
                    55.725625,
                    55.713304,
                    55.88456,
                    55.747485,
                    55.806191,
                    55.654823,
                    55.727004,
                    55.682651,
                    55.709449,
                    55.715936,
                    55.806702,
                    55.75555821829026,
                    55.726984,
                    55.708496,
                    55.612182,
                    55.59765010866539,
                    55.738784,
                    55.748675,
                    55.80481,
                    55.775383,
                    55.794887,
                    55.662151,
                    55.669823,
                    55.657814,
                    55.751244,
                    55.621119,
                    55.718177,
                    55.620337,
                    55.746431,
                    55.770583,
                    55.676103,
                    55.702815,
                    55.762581,
                    55.733802,
                    55.739559,
                    55.733579,
                    55.716174,
                    55.791223,
                    55.840492,
                    55.768248,
                    55.809115,
                    55.695454,
                    55.60672434454783,
                    55.573327,
                    55.816085,
                    55.86705017089844,
                    55.760591,
                    55.878273,
                    55.684509061076035,
                    55.721032,
                    55.752455,
                    55.672615,
                    55.692232,
                    55.718461,
                    55.888296,
                    55.766658,
                    55.610224,
                    55.782987,
                    55.795818,
                    55.75436169088017,
                    55.771737,
                    55.84024,
                    55.885549,
                    55.792119,
                    55.700806,
                    55.60399,
                    55.682209,
                    55.807805,
                    55.82002,
                    55.658586,
                    55.75133,
                    55.807956,
                    55.733346,
                    55.897251,
                    55.73942373574502,
                    55.753787,
                    55.726497,
                    55.759496,
                    55.593187,
                    55.760287,
                    55.797124,
                    55.752587,
                    55.743532,
                    55.793915,
                    55.776527,
                    55.644694,
                    55.735713,
                    55.707644,
                    55.661308,
                    55.653853,
                    55.739397,
                    55.704448,
                    55.80105,
                    55.599926,
                    55.742828,
                    55.727136,
                    55.708902,
                    55.858872,
                    55.769256,
                    55.787487,
                    55.738642,
                    55.691557,
                    55.622014,
                    55.792589,
                    55.685833,
                    55.76285,
                    55.653944,
                    55.780289,
                    55.63759933383006,
                    55.740634,
                    55.851581,
                    55.737922,
                    55.804359,
                    55.69351,
                    55.784663,
                    55.727851,
                    55.889058,
                    55.753544,
                    55.764759,
                    55.811872,
                    55.688649,
                    55.69230425681363,
                    55.794472,
                    55.656438,
                    55.737862,
                    55.824314,
                    55.822878,
                    55.67579799961511,
                    55.844036,
                    55.727739,
                    55.741237,
                    55.803788,
                    55.794614,
                    55.756665,
                    55.712553,
                    55.810835,
                    55.77338635557353,
                    55.707953,
                    55.733041,
                    55.697052,
                    55.757222,
                    55.712477,
                    55.723749,
                    55.665426,
                    55.801374,
                    55.720068,
                    55.708354,
                    55.791248,
                    55.79059,
                    55.612614,
                    55.672082,
                    55.730527,
                    55.604122,
                    55.749674,
                    55.755864,
                    55.794497,
                    55.7844,
                    55.669615,
                    55.852435,
                    55.64665,
                    55.704813,
                    55.825371,
                    55.779813,
                    55.786262,
                    55.744298,
                    55.682808,
                    55.740654,
                    55.674595,
                    55.781676,
                    55.767899,
                    55.696123,
                    55.728003,
                    55.782476,
                    55.72233,
                    55.773525,
                    55.623315,
                    55.753848,
                    55.74597,
                    55.848321,
                    55.768841,
                    55.693627,
                    55.735895,
                    55.872521,
                    55.705858,
                    55.857604,
                    55.574879,
                    55.757901,
                    55.694819,
                    55.746679,
                    55.782623,
                    55.776127,
                    55.643744,
                    55.754704,
                    55.716874,
                    55.636641,
                    55.797862,
                    55.718065,
                    55.780218,
                    55.67258,
                    55.781575,
                    55.79439546143089,
                    55.750864,
                    55.782071,
                    55.612146,
                    55.757288,
                    55.756173,
                    55.718375,
                    55.747272,
                    55.784622,
                    55.73182,
                    55.702987,
                    55.751351,
                    55.71307,
                    55.76038092924618,
                    55.76719,
                    55.764592,
                    55.756371,
                    55.738799,
                    55.789208,
                    55.796294,
                    55.770471,
                    55.759724,
                    55.75912095593183,
                    55.790464,
                    55.722299,
                    55.683625,
                    55.72747598609252,
                    55.845648,
                    55.775864,
                    55.735728,
                    55.70637130737305,
                    55.616554,
                    55.750499,
                    55.825001,
                    55.705011,
                    55.743928,
                    55.761757559179024,
                    55.743183,
                    55.8601025423157,
                    55.753083,
                    55.746233,
                    55.782658,
                    55.663024,
                    55.774527,
                    55.765093,
                    55.744637,
                    55.832293,
                    55.869814,
                    55.738242,
                    55.76053,
                    55.887766,
                    55.744622,
                    55.760074,
                    55.621607,
                    55.884757,
                    55.673042,
                    55.747622,
                    55.832955,
                    55.754927,
                    55.692485,
                    55.73403,
                    55.765265,
                    55.622151,
                    55.752156,
                    55.887109,
                    55.766805,
                    55.823216,
                    55.6438,
                    55.738596,
                    55.755388,
                    55.719607,
                    55.726609,
                    55.747135,
                    55.739052,
                    55.743446,
                    55.623788,
                    55.779778,
                    55.663842,
                    55.74222,
                    55.762024,
                    55.750535,
                    55.835422,
                    55.889467,
                    55.73368,
                    55.749633,
                    55.767306,
                    55.716519,
                    55.768025,
                    55.746922,
                    55.796137,
                    55.765924,
                    55.863171,
                    55.76837,
                    55.705452,
                    55.75491780357639,
                    55.747089,
                    55.73441,
                    55.780213,
                    55.739645,
                    55.794401,
                    55.809469,
                    55.71323560142409,
                    55.761624,
                    55.738708,
                    55.823707,
                    55.80587168489378,
                    55.778654,
                    55.762399,
                    55.644145,
                    55.834911,
                    55.70786541534598,
                    55.75576800652564,
                    55.779565,
                    55.703606,
                    55.777034,
                    55.74673,
                    55.707796,
                    55.802563,
                    55.836843,
                    55.82835577283728,
                    55.758949,
                    55.84072,
                    55.731014,
                    55.651775,
                    55.75322,
                    55.767803,
                    55.78784335543345,
                    55.742316,
                    55.743147,
                    55.770806,
                    55.76759,
                    55.799937,
                    55.742265,
                    55.732225,
                    55.709495,
                    55.734618,
                    55.803282,
                    55.777358,
                    55.79018,
                    55.612146,
                    55.707491,
                    55.686645,
                    55.854891,
                    55.581877,
                    55.701633,
                    55.772674,
                    55.868425,
                    55.765655,
                    55.755864,
                    55.802042,
                    55.736341,
                    55.755074,
                    55.594591,
                    55.760089,
                    55.75999999998115,
                    55.70067259202771,
                    55.706959,
                    55.699538,
                    55.703976,
                    55.845855,
                    55.791582,
                    55.80398,
                    55.656849,
                    55.722203,
                    55.809474,
                    55.67894,
                    55.7637,
                    55.745392,
                    55.669224,
                    55.651511,
                    55.756842,
                    55.817431,
                    55.744632,
                    55.730482,
                    55.839461,
                    55.769833,
                    55.697985,
                    55.74564,
                    55.74448,
                    55.710814,
                    55.780218,
                    55.828465,
                    55.852147,
                    55.756726,
                    55.790231,
                    55.767995,
                    55.633897,
                    55.76526,
                    55.746593,
                    55.825001,
                    55.70892980940311,
                    55.775753,
                    55.806216,
                    55.789396,
                    55.761725,
                    55.792361,
                    55.621404,
                    55.71307,
                    55.86208,
                    55.871183,
                    55.749891,
                    55.794811,
                    55.69006,
                    55.782932,
                    55.677763,
                    55.68264,
                    55.622324,
                    55.790231,
                    55.758448,
                    55.761036,
                    55.65000486327164,
                    55.675022,
                    55.789704,
                    55.847851,
                    55.726487,
                    55.753625,
                    55.75186093403699,
                    55.597007,
                    55.705072,
                    55.769676,
                    55.7613,
                    55.770476,
                    55.691963,
                    55.578731802771856,
                    55.790231,
                    55.61931961213422,
                    55.87107537337067,
                    55.685148510062,
                    55.685731,
                    55.709307,
                    55.773398,
                    55.792265,
                    55.612182,
                    55.655356,
                    55.766749,
                    55.830326,
                    55.753215,
                    55.597246,
                    55.766618,
                    55.7903173777539,
                    55.740421,
                    55.664593,
                    55.684168,
                    55.780279,
                    55.753635,
                    55.734922,
                    55.75322,
                    55.58669,
                    55.690106,
                    55.661638,
                    55.785361,
                    55.61066763951762,
                    55.76930405200545,
                    55.797716,
                    55.814614,
                    55.707395,
                    55.850995,
                    55.780416,
                    55.824926,
                    55.777373,
                    55.617225,
                    55.705072,
                    55.714125,
                    55.78316706459049,
                    55.741617,
                    55.755864,
                    55.825664,
                    55.710692,
                    55.654076,
                    55.762044,
                    55.747586,
                    55.767337,
                    55.748762,
                    55.803934,
                    55.73925,
                    55.680311,
                    55.800878,
                    55.823216,
                    55.756189,
                    55.792807,
                    55.721757,
                    55.765078,
                    55.618756,
                    55.778676822594946,
                    55.721392,
                    55.712594,
                    55.572182,
                    55.773322,
                    55.706401,
                    55.651354,
                    55.766749,
                    55.649347,
                    55.772436,
                    55.883873,
                    55.6508355,
                    55.6692615766585,
                    55.684503,
                    55.790231,
                    55.782744,
                    55.731409,
                    55.752658,
                    55.845855,
                    55.775768,
                    55.823029,
                    55.773413,
                    55.787872,
                    55.654462,
                    55.766101,
                    55.790231,
                    55.718689,
                    55.727719,
                    55.790231,
                    55.612111,
                    55.869571,
                    55.866672,
                    55.765412,
                    55.748285,
                    55.719166,
                    55.741059,
                    55.752901,
                    55.72522,
                    55.784152,
                    55.845734,
                    55.739549,
                    55.82663,
                    55.754547,
                    55.893051,
                    55.724292,
                    55.611104,
                    55.756842,
                    55.759101,
                    55.741571,
                    55.682706,
                    55.72559,
                    55.740943,
                    55.811007,
                    55.704098,
                    55.777388,
                    55.754725,
                    55.590877682291215,
                    55.621811,
                    55.77799425397781,
                    55.790231,
                    55.653319,
                    55.805528,
                    55.746274,
                    55.754694,
                    55.76727653993129,
                    55.851571,
                    55.681767,
                    55.757009,
                    55.887695,
                    55.781053,
                    55.755864,
                    55.795145,
                    55.757936,
                    55.744637,
                    55.727506,
                    55.677692,
                    55.796785,
                    55.860928,
                    55.802179,
                    55.775965,
                    55.601956,
                    55.699269,
                    55.747115,
                    55.731024,
                    55.740872,
                    55.766172,
                    55.834234,
                    55.79103,
                    55.843763,
                    55.763741,
                    55.724728,
                    55.771261,
                    55.709931,
                    55.728003,
                    55.632144,
                    55.74047926397357,
                    55.735844,
                    55.617271,
                    55.678081911490246,
                    55.776618,
                    55.740639,
                    55.744997,
                    55.770401,
                    55.782198,
                    55.770851,
                    55.742113,
                    55.574711,
                    55.738596,
                    55.629531,
                    55.85008,
                    55.750808,
                    55.743649,
                    55.749162,
                    55.728241,
                    55.66951914618675,
                    55.7802575999632,
                    55.757131,
                    55.731014,
                    55.708075,
                    55.658764,
                    55.754329,
                    55.756143,
                    55.759866,
                    55.75576800652564,
                    55.74597,
                    55.682701,
                    55.623788,
                    55.811229,
                    55.705042,
                    55.777099,
                    55.712528,
                    55.682651,
                    55.745934,
                    55.817714,
                    55.612329,
                    55.694363,
                    55.741105,
                    55.779707,
                    55.823216,
                    55.741972,
                    55.705924,
                    55.644755,
                    55.744703,
                    55.705645,
                    55.787224,
                    55.853071043390166,
                    55.843631,
                    55.755804,
                    55.589305,
                    55.780036,
                    55.628047,
                    55.755864,
                    55.618939,
                    55.782967,
                    55.721184,
                    55.668935,
                    55.757648,
                    55.581400062427996,
                    55.780218,
                    55.604483,
                    55.78562302828297,
                    55.649332,
                    55.759618,
                    55.693931,
                    55.73306580882099,
                    55.758924,
                    55.67962,
                    55.61976585562341,
                    55.796562,
                    55.731014,
                    55.739017,
                    55.663349,
                    55.805862,
                    55.699588,
                    55.769773,
                    55.623112,
                    55.75396,
                    55.737922,
                    55.781545,
                    55.790231,
                    55.680984,
                    55.746481,
                    55.783266,
                    55.765909,
                    55.723247,
                    55.732286,
                    55.770471,
                    55.708552,
                    55.810966,
                    55.749486,
                    55.75745,
                    55.84606056591238,
                    55.783919,
                    55.777449,
                    55.83252913130291,
                    55.736012,
                    55.820936,
                    55.763189,
                    55.800595,
                    55.770178,
                    55.705037,
                    55.70286,
                    55.731303,
                    55.653797,
                    55.760591,
                    55.605236,
                    55.742894,
                    55.847437,
                    55.753777,
                    55.720413,
                    55.744632,
                    55.807491,
                    55.731566,
                    55.705042,
                    55.840245,
                    55.710631,
                    55.591549,
                    55.710362,
                    55.838,
                    55.708384,
                    55.710692,
                    55.738551,
                    55.598868,
                    55.753737,
                    55.661486,
                    55.77435,
                    55.670021,
                    55.821032,
                    55.75811767578125,
                    55.815696,
                    55.77487954165147,
                    55.804638,
                    55.79224,
                    55.707299,
                    55.683518,
                    55.79613463807388,
                    55.729397,
                    55.875006,
                    55.776077,
                    55.594591,
                    55.75592049778832,
                    55.596991,
                    55.664248,
                    55.705696,
                    55.731019,
                    55.721848,
                    55.744632,
                    55.75576800652564,
                    55.757384,
                    55.640543,
                    55.757176,
                    55.7385,
                    55.81160449523241,
                    55.676301,
                    55.822878,
                    55.621816,
                    55.706152,
                    55.887014,
                    55.780213,
                    55.879324,
                    55.858887,
                    55.743193,
                    55.744632,
                    55.727932,
                    55.723861,
                    55.714506,
                    55.823216,
                    55.755864,
                    55.77990949162061,
                    55.621719,
                    55.777753,
                    55.643139,
                    55.774664,
                    55.704849,
                    55.755864,
                    55.615248,
                    55.86413400725827,
                    55.823216,
                    55.709155,
                    55.65133790371632,
                    55.793581,
                    55.747363,
                    55.749248,
                    55.75704,
                    55.761948,
                    55.663404556054374,
                    55.809474,
                    55.67058,
                    55.656849,
                    55.6696302292371,
                    55.731353,
                    55.88376515248707,
                    55.739752,
                    55.710296,
                    55.705072,
                    55.799077,
                    55.842888,
                    55.720895,
                    55.65015,
                    55.731663,
                    55.67422,
                    55.811007,
                    55.718796,
                    55.773753,
                    55.79973,
                    55.807005,
                    55.749633,
                    55.792807,
                    55.621816,
                    55.699908,
                    55.774755,
                    55.841963,
                    55.860105,
                    55.612619,
                    55.809338,
                    55.572905,
                    55.792827,
                    55.78197,
                    55.67559,
                    55.581088,
                    55.776527
                  ],
                  "legendgroup": "",
                  "lon": [
                    37.648465,
                    37.611976,
                    37.540129,
                    37.704772,
                    37.615785,
                    37.651762,
                    37.60558,
                    37.659326,
                    37.681416,
                    37.752257,
                    37.658616,
                    37.47359,
                    37.543686,
                    37.618749,
                    37.647774,
                    37.633733,
                    37.630598,
                    37.641045,
                    37.590542,
                    37.73182,
                    37.567716,
                    37.59919162698344,
                    37.658185,
                    37.378791,
                    37.617905,
                    37.699642,
                    37.724508,
                    37.653918,
                    37.63765,
                    37.477094,
                    37.473815,
                    37.778784,
                    37.635242,
                    37.414427,
                    37.426492,
                    37.614752,
                    37.527121,
                    37.378486,
                    37.53305,
                    37.70708,
                    37.561374,
                    37.618363,
                    37.758671,
                    37.536558290665916,
                    37.437819,
                    37.469638,
                    37.665542,
                    37.562775,
                    37.707781,
                    37.583095,
                    37.632565,
                    37.432681,
                    37.641324,
                    37.794999,
                    37.597899,
                    37.5781,
                    37.721058,
                    37.549166,
                    37.61767096817494,
                    37.808842,
                    37.621893,
                    37.549166,
                    37.738629,
                    37.714132,
                    37.738207,
                    37.659578,
                    37.549139,
                    37.764528,
                    37.661473,
                    37.430642,
                    37.735395,
                    37.63031,
                    37.403953,
                    37.531289,
                    37.59348,
                    37.731057,
                    37.655221,
                    37.619531,
                    37.606649,
                    37.582215,
                    37.545294,
                    37.671049,
                    37.712156,
                    37.50946,
                    37.614698,
                    37.783976,
                    37.633868,
                    37.612964,
                    37.440317,
                    37.448725,
                    37.546004,
                    37.500306,
                    37.442742,
                    37.81804,
                    37.516557,
                    37.617698,
                    37.554717,
                    37.569279,
                    37.633643,
                    37.478684,
                    37.574202,
                    37.568408,
                    37.541009,
                    37.566458,
                    37.606604,
                    37.59878,
                    37.659775,
                    37.540892,
                    37.574094,
                    37.5334,
                    37.699975,
                    37.534316,
                    37.570051,
                    37.685602,
                    37.604646,
                    37.410053,
                    37.658212,
                    37.552475283397136,
                    37.634542,
                    37.627184,
                    37.459119,
                    37.579187,
                    37.732575,
                    37.680149,
                    37.528486,
                    37.715776,
                    37.622612,
                    37.522414,
                    37.59657,
                    37.677292,
                    37.591018,
                    37.827742,
                    37.57724682992236,
                    37.590398,
                    37.520375,
                    37.63544,
                    37.588907,
                    37.490299,
                    37.618695,
                    37.743085,
                    37.69781,
                    37.4804801940918,
                    37.428935,
                    37.603568,
                    37.5031159153437,
                    37.540892,
                    37.662371,
                    37.615434,
                    37.57539098776573,
                    37.59501749073734,
                    37.601537,
                    37.634029,
                    37.571641,
                    37.570474,
                    37.553963,
                    37.771211,
                    37.565138,
                    37.537245,
                    37.425665,
                    37.635835,
                    37.528064,
                    37.59339,
                    37.591377,
                    37.478316,
                    37.534397,
                    37.657772,
                    37.66309,
                    37.638171,
                    37.655499,
                    37.654484,
                    37.526851,
                    37.661913,
                    37.71843921957377,
                    37.453504,
                    37.550333,
                    37.58703,
                    37.652921,
                    37.611787,
                    37.484936,
                    37.488305,
                    37.456828,
                    37.414176,
                    37.444853,
                    37.561401,
                    37.44855499267578,
                    37.601376,
                    37.67669,
                    37.62368,
                    37.580211,
                    37.653622,
                    37.646498,
                    37.59674,
                    37.599911,
                    37.489796,
                    37.470913,
                    37.382430508732796,
                    37.621184,
                    37.470347,
                    37.537434,
                    37.664725,
                    37.572073,
                    37.372368,
                    37.664384,
                    37.789447,
                    37.716432,
                    37.63999999999997,
                    37.635072,
                    37.619638,
                    37.51079,
                    37.483616,
                    37.611877,
                    37.631918,
                    37.560448,
                    37.530301,
                    37.619719,
                    37.615578,
                    37.389059,
                    37.62368,
                    37.659757,
                    37.771948,
                    37.500387375086284,
                    37.52460465381361,
                    37.744756,
                    37.562721,
                    37.608886,
                    37.410708,
                    37.413277,
                    37.623582,
                    37.464392,
                    37.744046,
                    37.636796,
                    37.61767096817494,
                    37.546471,
                    37.399713,
                    37.470958,
                    37.678649,
                    37.423509,
                    37.497045,
                    37.397593,
                    37.664518,
                    37.607655,
                    37.654754,
                    37.673466,
                    37.473276,
                    37.625909,
                    37.799427,
                    37.49877,
                    37.457987,
                    37.656389,
                    37.581676,
                    37.668426,
                    37.543659,
                    37.621211,
                    37.660359,
                    37.486832,
                    37.652175,
                    37.653433,
                    37.590632,
                    37.492644,
                    37.616036,
                    37.58217,
                    37.488601,
                    37.458211,
                    37.671678,
                    37.759282,
                    37.505723,
                    37.670681,
                    37.514958,
                    37.582457,
                    37.7714,
                    37.60894,
                    37.655158,
                    37.602597,
                    37.540389,
                    37.726772,
                    37.736896,
                    37.628613,
                    37.559353,
                    37.597441,
                    37.652849,
                    37.710009,
                    37.571013,
                    37.498734,
                    37.610682,
                    37.590335,
                    37.660359,
                    37.530265,
                    37.583113,
                    37.37496509019527,
                    37.619522,
                    37.39046,
                    37.798745,
                    37.392967,
                    37.641045,
                    37.58897,
                    37.714447,
                    37.65276350527913,
                    37.498734,
                    37.447611,
                    37.537434,
                    37.577013,
                    37.670483,
                    37.513368,
                    37.518353,
                    37.724687,
                    37.396775,
                    37.631712,
                    37.485664,
                    37.645214,
                    37.725271,
                    37.820825,
                    37.663584,
                    37.516063,
                    37.647828,
                    37.603487,
                    37.5827,
                    37.479115,
                    37.597297,
                    37.772208,
                    37.724616,
                    37.624004,
                    37.64675,
                    37.534092,
                    37.538548,
                    37.504483,
                    37.500926,
                    37.372503,
                    37.790543,
                    37.457466,
                    37.533724,
                    37.649328,
                    37.39378210317947,
                    37.501124,
                    37.497611,
                    37.475531,
                    37.749194,
                    37.698915,
                    37.627265,
                    37.526357,
                    37.37967121217764,
                    37.683365,
                    37.751071,
                    37.653421851519994,
                    37.49162,
                    37.512239007934596,
                    37.667941,
                    37.676717,
                    37.76769,
                    37.578532,
                    37.772262,
                    37.652822,
                    37.527983,
                    37.723313,
                    37.453639,
                    37.527076,
                    37.40036,
                    37.601115,
                    37.648277,
                    37.698286,
                    37.56751776538135,
                    37.450306,
                    37.610395,
                    37.628262,
                    37.499875,
                    37.537074,
                    37.564805,
                    37.408139,
                    37.409226,
                    37.705697,
                    37.529268,
                    37.556226,
                    37.559649,
                    37.668893,
                    37.632817,
                    37.411957,
                    37.617698,
                    37.646184,
                    37.662785,
                    37.541269,
                    37.647127,
                    37.716989,
                    37.459478,
                    37.835899,
                    37.442131,
                    37.822604,
                    37.564931,
                    37.793229,
                    37.582682,
                    37.57752064550758,
                    37.537847,
                    37.412523,
                    37.617698,
                    37.376159,
                    37.650208,
                    37.617698,
                    37.637299,
                    37.6698,
                    37.646992,
                    37.635539,
                    37.381342,
                    37.67581787098523,
                    37.760072,
                    37.40759398788215,
                    37.395194,
                    37.719028,
                    37.61748849999993,
                    37.512505,
                    37.480409,
                    37.631945,
                    37.591153,
                    37.617698,
                    37.430974,
                    37.497324,
                    37.636455,
                    37.519234,
                    37.605966,
                    37.408265,
                    37.520411,
                    37.600244,
                    37.837992,
                    37.745412,
                    37.474731,
                    37.449542,
                    37.507320404052734,
                    37.57749,
                    37.728838,
                    37.530409,
                    37.642797,
                    37.462182,
                    37.65926381573084,
                    37.407726,
                    37.813594,
                    37.51079,
                    37.705365,
                    37.55248,
                    37.545267,
                    37.444018,
                    37.746418,
                    37.684057,
                    37.80243840856315,
                    37.44744,
                    37.498761,
                    37.549821,
                    37.581703,
                    37.684775,
                    37.499354,
                    37.403118,
                    37.390128,
                    37.778622,
                    37.675361,
                    37.409864,
                    37.833518,
                    37.4928005952448,
                    37.435708,
                    37.646768,
                    37.634506,
                    37.695268,
                    37.63164,
                    37.692159,
                    37.698609,
                    37.531954,
                    37.479061,
                    37.587335,
                    37.510116,
                    37.39744,
                    37.526007,
                    37.705958,
                    37.625127,
                    37.63297566997451,
                    37.681883,
                    37.52554,
                    37.690111,
                    37.524749,
                    37.619522,
                    37.62408351289713,
                    37.533499,
                    37.680895,
                    37.485664,
                    37.658131,
                    37.737318,
                    37.506253,
                    37.639994,
                    37.687102,
                    37.752661,
                    37.563916,
                    37.695214,
                    37.537191,
                    37.581307,
                    37.455804,
                    37.409011,
                    37.574552,
                    37.661922,
                    37.442311,
                    37.407133,
                    37.403423,
                    37.6174221932888,
                    37.570851,
                    37.656613,
                    37.607026,
                    37.59579826054079,
                    37.665641,
                    37.690821,
                    37.566243,
                    37.58579,
                    37.712812,
                    37.764052,
                    37.52218,
                    37.587676,
                    37.618423,
                    37.74914,
                    37.602606,
                    37.75497,
                    37.652849,
                    37.397404,
                    37.625037,
                    37.736554,
                    37.682458,
                    37.711572,
                    37.61194,
                    37.58517,
                    37.415981,
                    37.602705,
                    37.380929,
                    37.598339,
                    37.757826,
                    37.390999,
                    37.663953667555305,
                    37.490506,
                    37.380803,
                    37.638511657714844,
                    37.614832,
                    37.480777,
                    37.621987233134625,
                    37.463907,
                    37.708967,
                    37.566952,
                    37.55487,
                    37.624355,
                    37.588683,
                    37.644091,
                    37.551672,
                    37.634901,
                    37.765839,
                    37.637097229264214,
                    37.619108,
                    37.492024,
                    37.524561,
                    37.603397,
                    37.63818,
                    37.742927,
                    37.484936,
                    37.638737,
                    37.576501,
                    37.77652,
                    37.526896,
                    37.511508,
                    37.577597,
                    37.73067,
                    37.52827970134183,
                    37.708248,
                    37.629996,
                    37.608868,
                    37.458822,
                    37.830213,
                    37.532223,
                    37.604744,
                    37.41317,
                    37.814726,
                    37.679403,
                    37.493973,
                    37.592303,
                    37.749283,
                    37.411526,
                    37.394296,
                    37.617977,
                    37.756919,
                    37.5872,
                    37.591647,
                    37.524121,
                    37.609901,
                    37.721058,
                    37.500136,
                    37.727257,
                    37.633482,
                    37.651142,
                    37.400198,
                    37.601457,
                    37.527588,
                    37.577507,
                    37.6327,
                    37.633922,
                    37.690363,
                    37.599873015868866,
                    37.435134,
                    37.619405,
                    37.490982,
                    37.585134,
                    37.660548,
                    37.583293,
                    37.565901,
                    37.58977,
                    37.621202,
                    37.561401,
                    37.53367,
                    37.652625,
                    37.56197033995039,
                    37.484343,
                    37.52262,
                    37.686806,
                    37.429303,
                    37.606281,
                    37.443982000000005,
                    37.565452,
                    37.606936,
                    37.416125,
                    37.402695,
                    37.799427,
                    37.5872,
                    37.754386,
                    37.626304,
                    37.48438308365097,
                    37.59595,
                    37.580292,
                    37.635386,
                    37.607924,
                    37.476842,
                    37.654808,
                    37.769415,
                    37.57033,
                    37.460493,
                    37.652705,
                    37.587533,
                    37.703999,
                    37.604538,
                    37.48817,
                    37.695429,
                    37.596552,
                    37.502292,
                    37.617698,
                    37.562631,
                    37.673421,
                    37.480948,
                    37.61918,
                    37.657637,
                    37.691881,
                    37.597513,
                    37.451627,
                    37.495626,
                    37.656245,
                    37.537029,
                    37.633535,
                    37.497548,
                    37.71565,
                    37.604125,
                    37.469817,
                    37.443533,
                    37.500818,
                    37.692734,
                    37.473905,
                    37.714932,
                    37.698861,
                    37.514958,
                    37.629897,
                    37.672406,
                    37.514033,
                    37.587128,
                    37.632439,
                    37.725487,
                    37.695923,
                    37.580113,
                    37.599813,
                    37.720376,
                    37.655903,
                    37.723367,
                    37.673888,
                    37.492293,
                    37.713342,
                    37.746768,
                    37.588233,
                    37.54966,
                    37.791917,
                    37.593084,
                    37.762668,
                    37.54966,
                    37.713761673610215,
                    37.412406,
                    37.705293,
                    37.606999,
                    37.599238,
                    37.593839,
                    37.581325,
                    37.605283,
                    37.56945,
                    37.637003,
                    37.42571,
                    37.587191,
                    37.558454,
                    37.66223489838072,
                    37.607709,
                    37.569099,
                    37.750218,
                    37.631694,
                    37.664824,
                    37.691863,
                    37.622199,
                    37.738459,
                    37.58850800859804,
                    37.530409,
                    37.621543,
                    37.590883,
                    37.59702480099108,
                    37.475674,
                    37.660413,
                    37.569378,
                    37.685340881347656,
                    37.764061,
                    37.597953,
                    37.433759,
                    37.615866,
                    37.568102,
                    37.64231661334635,
                    37.653873,
                    37.68561138773124,
                    37.610296,
                    37.5804,
                    37.575756,
                    37.481001,
                    37.587093,
                    37.568776,
                    37.566072,
                    37.620564,
                    37.657179,
                    37.659757,
                    37.619764,
                    37.677005,
                    37.562182,
                    37.653038,
                    37.669154,
                    37.506253,
                    37.664608,
                    37.535071,
                    37.618552,
                    37.634506,
                    37.533463,
                    37.66353,
                    37.566386,
                    37.427561,
                    37.588548,
                    37.632996,
                    37.683931,
                    37.497468,
                    37.413107,
                    37.411014,
                    37.560664,
                    37.556047,
                    37.630742,
                    37.642815,
                    37.516934,
                    37.535924,
                    37.422036,
                    37.668264,
                    37.511445,
                    37.616629,
                    37.559649,
                    37.536526,
                    37.623205,
                    37.640282,
                    37.664141,
                    37.537434,
                    37.55796,
                    37.452767,
                    37.623483,
                    37.556864,
                    37.488341,
                    37.634982,
                    37.602148,
                    37.605589,
                    37.637749,
                    37.6132435819166,
                    37.681335,
                    37.59047,
                    37.593075,
                    37.667528,
                    37.592042,
                    37.464571,
                    37.551121419295534,
                    37.573995,
                    37.610583,
                    37.500423,
                    37.51401483201542,
                    37.596489,
                    37.619117,
                    37.473492,
                    37.479762,
                    37.62485408542719,
                    37.61767096817494,
                    37.601421,
                    37.615443,
                    37.55637,
                    37.712336,
                    37.650388,
                    37.486221,
                    37.620824,
                    37.39073039462236,
                    37.620681,
                    37.583859,
                    37.639958,
                    37.618758,
                    37.715471,
                    37.632233,
                    37.53211952437067,
                    37.620537,
                    37.674741,
                    37.564212,
                    37.579574,
                    37.505903,
                    37.609541,
                    37.629691,
                    37.675172,
                    37.602624,
                    37.512766,
                    37.572755,
                    37.656344,
                    37.606999,
                    37.626493,
                    37.556397,
                    37.476231,
                    37.627166,
                    37.576798,
                    37.663395,
                    37.404627,
                    37.660494,
                    37.617698,
                    37.535385,
                    37.64065,
                    37.585269,
                    37.678649,
                    37.584478,
                    37.63999999999997,
                    37.63435967173779,
                    37.649076,
                    37.621938,
                    37.723654,
                    37.662093,
                    37.705607,
                    37.744756,
                    37.496291,
                    37.459451,
                    37.464571,
                    37.563215,
                    37.605041,
                    37.800936,
                    37.581038,
                    37.411562,
                    37.408139,
                    37.572935,
                    37.566072,
                    37.644791,
                    37.627427,
                    37.701762,
                    37.460843,
                    37.676852,
                    37.79976,
                    37.7706,
                    37.593084,
                    37.631433,
                    37.58597,
                    37.617258,
                    37.531289,
                    37.558625,
                    37.628406,
                    37.607565,
                    37.53738,
                    37.433759,
                    37.546551802897426,
                    37.684605,
                    37.782512,
                    37.536832,
                    37.619171,
                    37.527615,
                    37.713953,
                    37.558454,
                    37.598007,
                    37.649759,
                    37.414652,
                    37.794406,
                    37.813181,
                    37.715911,
                    37.620267,
                    37.625621,
                    37.667662,
                    37.531289,
                    37.62166,
                    37.519593,
                    37.7441789681215,
                    37.782782,
                    37.558212,
                    37.638746,
                    37.747693,
                    37.625882,
                    37.78473983575316,
                    37.463637,
                    37.639383,
                    37.631936,
                    37.535745,
                    37.622199,
                    37.527965,
                    37.66559444543778,
                    37.531289,
                    37.48687587601273,
                    37.46133555952422,
                    37.4135524722132,
                    37.572396,
                    37.380938,
                    37.49453,
                    37.78712,
                    37.607026,
                    37.644576,
                    37.624211,
                    37.489338,
                    37.622504,
                    37.527184,
                    37.599983,
                    37.55101940013863,
                    37.532071,
                    37.63464,
                    37.48905,
                    37.516602,
                    37.605598,
                    37.808967,
                    37.622513,
                    37.629161,
                    37.489724,
                    37.480148,
                    37.558535,
                    37.71828314707175,
                    37.591456741068995,
                    37.688369,
                    37.647603,
                    37.692537,
                    37.597414,
                    37.573923,
                    37.516386,
                    37.612075,
                    37.510511,
                    37.639383,
                    37.733132,
                    37.70016586011879,
                    37.551277,
                    37.617698,
                    37.51653,
                    37.675109,
                    37.728802,
                    37.556568,
                    37.531936,
                    37.524228,
                    37.538062,
                    37.74463,
                    37.598456,
                    37.623492,
                    37.554663,
                    37.497468,
                    37.561994,
                    37.586122,
                    37.591045,
                    37.620483,
                    37.654026,
                    37.587945013379795,
                    37.516701,
                    37.72387,
                    37.563934,
                    37.631936,
                    37.657161,
                    37.391969,
                    37.624211,
                    37.742878,
                    37.63835,
                    37.60302,
                    37.5973206,
                    37.55405803962047,
                    37.43269,
                    37.531289,
                    37.720816,
                    37.611482,
                    37.587227,
                    37.662093,
                    37.64966,
                    37.63058,
                    37.594513,
                    37.489266,
                    37.647639,
                    37.640075,
                    37.531289,
                    37.482223,
                    37.686015,
                    37.531289,
                    37.611886,
                    37.658536,
                    37.438637,
                    37.796544,
                    37.581415,
                    37.629232,
                    37.624588,
                    37.544809,
                    37.648771,
                    37.712021,
                    37.43137,
                    37.652957,
                    37.515658,
                    37.777562,
                    37.610197,
                    37.592914,
                    37.659838,
                    37.408139,
                    37.598034,
                    37.566288,
                    37.66132,
                    37.377596,
                    37.62899,
                    37.800901,
                    37.651699,
                    37.582206,
                    37.652831,
                    37.62342772219808,
                    37.424048,
                    37.606591624900915,
                    37.531289,
                    37.646139,
                    37.58446,
                    37.580391,
                    37.621516,
                    37.380360015868845,
                    37.531981,
                    37.516575,
                    37.631299,
                    37.40151,
                    37.599902,
                    37.617698,
                    37.541811,
                    37.597423,
                    37.566072,
                    37.567779,
                    37.574363,
                    37.581882,
                    37.436409,
                    37.821319,
                    37.542222,
                    37.664752,
                    37.732251,
                    37.539078,
                    37.670501,
                    37.416619,
                    37.630391,
                    37.51838,
                    37.46847,
                    37.438206,
                    37.606281,
                    37.643938,
                    37.417275,
                    37.732638,
                    37.443533,
                    37.467706,
                    37.636089853827826,
                    37.61256,
                    37.715686,
                    37.725920132208905,
                    37.699975,
                    37.428082,
                    37.658221,
                    37.600459,
                    37.702688,
                    37.632044,
                    37.662623,
                    37.617339,
                    37.411014,
                    37.633194,
                    37.590066,
                    37.698609,
                    37.508122,
                    37.539742,
                    37.586563,
                    37.55360250660458,
                    37.582433999999985,
                    37.617114,
                    37.639958,
                    37.655176,
                    37.429986,
                    37.752454,
                    37.506954,
                    37.631766,
                    37.61767096817494,
                    37.514958,
                    37.661329,
                    37.422036,
                    37.837183,
                    37.639824,
                    37.523707,
                    37.389122,
                    37.661913,
                    37.562021,
                    37.372997,
                    37.605966,
                    37.674588,
                    37.598744,
                    37.579933,
                    37.497468,
                    37.618534,
                    37.578334,
                    37.392553,
                    37.566818,
                    37.689447,
                    37.676601,
                    37.625175279761315,
                    37.443973,
                    37.614608,
                    37.454034,
                    37.601403,
                    37.740929,
                    37.617698,
                    37.508346,
                    37.580526,
                    37.634344,
                    37.539796,
                    37.750909,
                    37.59605335449108,
                    37.593084,
                    37.489526,
                    37.65864472836257,
                    37.468964,
                    37.626762,
                    37.664428,
                    37.64020025281224,
                    37.643588,
                    37.623888,
                    37.58342681845312,
                    37.536922,
                    37.639958,
                    37.44082,
                    37.478729,
                    37.518937,
                    37.736087,
                    37.61936,
                    37.603981,
                    37.620393,
                    37.506307,
                    37.572082,
                    37.531289,
                    37.485718,
                    37.682619,
                    37.597899,
                    37.619899,
                    37.564105,
                    37.731883,
                    37.622199,
                    37.400665,
                    37.80108,
                    37.59083,
                    37.659937,
                    37.65965629891941,
                    37.588494,
                    37.519315,
                    37.627292361006674,
                    37.618659,
                    37.387738,
                    37.596956,
                    37.63668,
                    37.595501,
                    37.639815,
                    37.834066,
                    37.635269,
                    37.410735,
                    37.614832,
                    37.705104,
                    37.629754,
                    37.438888,
                    37.63606,
                    37.378782,
                    37.566072,
                    37.542033,
                    37.633464,
                    37.639824,
                    37.492024,
                    37.770025,
                    37.425117,
                    37.708356,
                    37.576852,
                    37.470356,
                    37.675109,
                    37.764276,
                    37.474839,
                    37.558724,
                    37.753011,
                    37.653846,
                    37.55248,
                    37.386202,
                    37.546974182128906,
                    37.600172,
                    37.684751943591266,
                    37.395671,
                    37.391493,
                    37.456828,
                    37.694863,
                    37.799018494998194,
                    37.734524,
                    37.604026,
                    37.677203,
                    37.678649,
                    37.63412006745881,
                    37.449264,
                    37.51759,
                    37.64065,
                    37.639878,
                    37.638683,
                    37.566072,
                    37.61767096817494,
                    37.633706,
                    37.608212,
                    37.602085,
                    37.655688,
                    37.74088868131378,
                    37.763081,
                    37.606281,
                    37.424057,
                    37.66627,
                    37.500351,
                    37.593075,
                    37.547342,
                    37.693992,
                    37.427848,
                    37.566072,
                    37.476169,
                    37.610053,
                    37.474695,
                    37.497468,
                    37.617698,
                    37.63347995940291,
                    37.611742,
                    37.464257,
                    37.628074,
                    37.737435,
                    37.657296,
                    37.617698,
                    37.628172,
                    37.593488499999964,
                    37.497468,
                    37.595321,
                    37.61261153981886,
                    37.493317,
                    37.707098,
                    37.541027,
                    37.5956,
                    37.620887,
                    37.48102513988056,
                    37.464571,
                    37.449012,
                    37.496291,
                    37.512487953372585,
                    37.604637,
                    37.544644203704706,
                    37.652005,
                    37.592878,
                    37.639383,
                    37.529825,
                    37.455983,
                    37.442805,
                    37.540587,
                    37.738764,
                    37.791109,
                    37.800901,
                    37.687686,
                    37.682521,
                    37.492482,
                    37.573986,
                    37.537434,
                    37.586122,
                    37.424057,
                    37.635296,
                    37.667896,
                    37.437316,
                    37.448348,
                    37.69675,
                    37.403441,
                    37.464868,
                    37.5933,
                    37.670124,
                    37.506038,
                    37.475513,
                    37.500127
                  ],
                  "marker": {
                    "color": "fuchsia"
                  },
                  "mode": "markers",
                  "name": "",
                  "showlegend": false,
                  "subplot": "mapbox",
                  "type": "scattermapbox"
                }
              ],
              "layout": {
                "height": 700,
                "legend": {
                  "tracegroupgap": 0
                },
                "mapbox": {
                  "center": {
                    "lat": 55.7536,
                    "lon": 37.621184
                  },
                  "domain": {
                    "x": [
                      0,
                      1
                    ],
                    "y": [
                      0,
                      1
                    ]
                  },
                  "style": "open-street-map",
                  "zoom": 10
                },
                "margin": {
                  "b": 0,
                  "l": 0,
                  "r": 0,
                  "t": 0
                },
                "template": {
                  "data": {
                    "bar": [
                      {
                        "error_x": {
                          "color": "#2a3f5f"
                        },
                        "error_y": {
                          "color": "#2a3f5f"
                        },
                        "marker": {
                          "line": {
                            "color": "#E5ECF6",
                            "width": 0.5
                          },
                          "pattern": {
                            "fillmode": "overlay",
                            "size": 10,
                            "solidity": 0.2
                          }
                        },
                        "type": "bar"
                      }
                    ],
                    "barpolar": [
                      {
                        "marker": {
                          "line": {
                            "color": "#E5ECF6",
                            "width": 0.5
                          },
                          "pattern": {
                            "fillmode": "overlay",
                            "size": 10,
                            "solidity": 0.2
                          }
                        },
                        "type": "barpolar"
                      }
                    ],
                    "carpet": [
                      {
                        "aaxis": {
                          "endlinecolor": "#2a3f5f",
                          "gridcolor": "white",
                          "linecolor": "white",
                          "minorgridcolor": "white",
                          "startlinecolor": "#2a3f5f"
                        },
                        "baxis": {
                          "endlinecolor": "#2a3f5f",
                          "gridcolor": "white",
                          "linecolor": "white",
                          "minorgridcolor": "white",
                          "startlinecolor": "#2a3f5f"
                        },
                        "type": "carpet"
                      }
                    ],
                    "choropleth": [
                      {
                        "colorbar": {
                          "outlinewidth": 0,
                          "ticks": ""
                        },
                        "type": "choropleth"
                      }
                    ],
                    "contour": [
                      {
                        "colorbar": {
                          "outlinewidth": 0,
                          "ticks": ""
                        },
                        "colorscale": [
                          [
                            0,
                            "#0d0887"
                          ],
                          [
                            0.1111111111111111,
                            "#46039f"
                          ],
                          [
                            0.2222222222222222,
                            "#7201a8"
                          ],
                          [
                            0.3333333333333333,
                            "#9c179e"
                          ],
                          [
                            0.4444444444444444,
                            "#bd3786"
                          ],
                          [
                            0.5555555555555556,
                            "#d8576b"
                          ],
                          [
                            0.6666666666666666,
                            "#ed7953"
                          ],
                          [
                            0.7777777777777778,
                            "#fb9f3a"
                          ],
                          [
                            0.8888888888888888,
                            "#fdca26"
                          ],
                          [
                            1,
                            "#f0f921"
                          ]
                        ],
                        "type": "contour"
                      }
                    ],
                    "contourcarpet": [
                      {
                        "colorbar": {
                          "outlinewidth": 0,
                          "ticks": ""
                        },
                        "type": "contourcarpet"
                      }
                    ],
                    "heatmap": [
                      {
                        "colorbar": {
                          "outlinewidth": 0,
                          "ticks": ""
                        },
                        "colorscale": [
                          [
                            0,
                            "#0d0887"
                          ],
                          [
                            0.1111111111111111,
                            "#46039f"
                          ],
                          [
                            0.2222222222222222,
                            "#7201a8"
                          ],
                          [
                            0.3333333333333333,
                            "#9c179e"
                          ],
                          [
                            0.4444444444444444,
                            "#bd3786"
                          ],
                          [
                            0.5555555555555556,
                            "#d8576b"
                          ],
                          [
                            0.6666666666666666,
                            "#ed7953"
                          ],
                          [
                            0.7777777777777778,
                            "#fb9f3a"
                          ],
                          [
                            0.8888888888888888,
                            "#fdca26"
                          ],
                          [
                            1,
                            "#f0f921"
                          ]
                        ],
                        "type": "heatmap"
                      }
                    ],
                    "heatmapgl": [
                      {
                        "colorbar": {
                          "outlinewidth": 0,
                          "ticks": ""
                        },
                        "colorscale": [
                          [
                            0,
                            "#0d0887"
                          ],
                          [
                            0.1111111111111111,
                            "#46039f"
                          ],
                          [
                            0.2222222222222222,
                            "#7201a8"
                          ],
                          [
                            0.3333333333333333,
                            "#9c179e"
                          ],
                          [
                            0.4444444444444444,
                            "#bd3786"
                          ],
                          [
                            0.5555555555555556,
                            "#d8576b"
                          ],
                          [
                            0.6666666666666666,
                            "#ed7953"
                          ],
                          [
                            0.7777777777777778,
                            "#fb9f3a"
                          ],
                          [
                            0.8888888888888888,
                            "#fdca26"
                          ],
                          [
                            1,
                            "#f0f921"
                          ]
                        ],
                        "type": "heatmapgl"
                      }
                    ],
                    "histogram": [
                      {
                        "marker": {
                          "pattern": {
                            "fillmode": "overlay",
                            "size": 10,
                            "solidity": 0.2
                          }
                        },
                        "type": "histogram"
                      }
                    ],
                    "histogram2d": [
                      {
                        "colorbar": {
                          "outlinewidth": 0,
                          "ticks": ""
                        },
                        "colorscale": [
                          [
                            0,
                            "#0d0887"
                          ],
                          [
                            0.1111111111111111,
                            "#46039f"
                          ],
                          [
                            0.2222222222222222,
                            "#7201a8"
                          ],
                          [
                            0.3333333333333333,
                            "#9c179e"
                          ],
                          [
                            0.4444444444444444,
                            "#bd3786"
                          ],
                          [
                            0.5555555555555556,
                            "#d8576b"
                          ],
                          [
                            0.6666666666666666,
                            "#ed7953"
                          ],
                          [
                            0.7777777777777778,
                            "#fb9f3a"
                          ],
                          [
                            0.8888888888888888,
                            "#fdca26"
                          ],
                          [
                            1,
                            "#f0f921"
                          ]
                        ],
                        "type": "histogram2d"
                      }
                    ],
                    "histogram2dcontour": [
                      {
                        "colorbar": {
                          "outlinewidth": 0,
                          "ticks": ""
                        },
                        "colorscale": [
                          [
                            0,
                            "#0d0887"
                          ],
                          [
                            0.1111111111111111,
                            "#46039f"
                          ],
                          [
                            0.2222222222222222,
                            "#7201a8"
                          ],
                          [
                            0.3333333333333333,
                            "#9c179e"
                          ],
                          [
                            0.4444444444444444,
                            "#bd3786"
                          ],
                          [
                            0.5555555555555556,
                            "#d8576b"
                          ],
                          [
                            0.6666666666666666,
                            "#ed7953"
                          ],
                          [
                            0.7777777777777778,
                            "#fb9f3a"
                          ],
                          [
                            0.8888888888888888,
                            "#fdca26"
                          ],
                          [
                            1,
                            "#f0f921"
                          ]
                        ],
                        "type": "histogram2dcontour"
                      }
                    ],
                    "mesh3d": [
                      {
                        "colorbar": {
                          "outlinewidth": 0,
                          "ticks": ""
                        },
                        "type": "mesh3d"
                      }
                    ],
                    "parcoords": [
                      {
                        "line": {
                          "colorbar": {
                            "outlinewidth": 0,
                            "ticks": ""
                          }
                        },
                        "type": "parcoords"
                      }
                    ],
                    "pie": [
                      {
                        "automargin": true,
                        "type": "pie"
                      }
                    ],
                    "scatter": [
                      {
                        "fillpattern": {
                          "fillmode": "overlay",
                          "size": 10,
                          "solidity": 0.2
                        },
                        "type": "scatter"
                      }
                    ],
                    "scatter3d": [
                      {
                        "line": {
                          "colorbar": {
                            "outlinewidth": 0,
                            "ticks": ""
                          }
                        },
                        "marker": {
                          "colorbar": {
                            "outlinewidth": 0,
                            "ticks": ""
                          }
                        },
                        "type": "scatter3d"
                      }
                    ],
                    "scattercarpet": [
                      {
                        "marker": {
                          "colorbar": {
                            "outlinewidth": 0,
                            "ticks": ""
                          }
                        },
                        "type": "scattercarpet"
                      }
                    ],
                    "scattergeo": [
                      {
                        "marker": {
                          "colorbar": {
                            "outlinewidth": 0,
                            "ticks": ""
                          }
                        },
                        "type": "scattergeo"
                      }
                    ],
                    "scattergl": [
                      {
                        "marker": {
                          "colorbar": {
                            "outlinewidth": 0,
                            "ticks": ""
                          }
                        },
                        "type": "scattergl"
                      }
                    ],
                    "scattermapbox": [
                      {
                        "marker": {
                          "colorbar": {
                            "outlinewidth": 0,
                            "ticks": ""
                          }
                        },
                        "type": "scattermapbox"
                      }
                    ],
                    "scatterpolar": [
                      {
                        "marker": {
                          "colorbar": {
                            "outlinewidth": 0,
                            "ticks": ""
                          }
                        },
                        "type": "scatterpolar"
                      }
                    ],
                    "scatterpolargl": [
                      {
                        "marker": {
                          "colorbar": {
                            "outlinewidth": 0,
                            "ticks": ""
                          }
                        },
                        "type": "scatterpolargl"
                      }
                    ],
                    "scatterternary": [
                      {
                        "marker": {
                          "colorbar": {
                            "outlinewidth": 0,
                            "ticks": ""
                          }
                        },
                        "type": "scatterternary"
                      }
                    ],
                    "surface": [
                      {
                        "colorbar": {
                          "outlinewidth": 0,
                          "ticks": ""
                        },
                        "colorscale": [
                          [
                            0,
                            "#0d0887"
                          ],
                          [
                            0.1111111111111111,
                            "#46039f"
                          ],
                          [
                            0.2222222222222222,
                            "#7201a8"
                          ],
                          [
                            0.3333333333333333,
                            "#9c179e"
                          ],
                          [
                            0.4444444444444444,
                            "#bd3786"
                          ],
                          [
                            0.5555555555555556,
                            "#d8576b"
                          ],
                          [
                            0.6666666666666666,
                            "#ed7953"
                          ],
                          [
                            0.7777777777777778,
                            "#fb9f3a"
                          ],
                          [
                            0.8888888888888888,
                            "#fdca26"
                          ],
                          [
                            1,
                            "#f0f921"
                          ]
                        ],
                        "type": "surface"
                      }
                    ],
                    "table": [
                      {
                        "cells": {
                          "fill": {
                            "color": "#EBF0F8"
                          },
                          "line": {
                            "color": "white"
                          }
                        },
                        "header": {
                          "fill": {
                            "color": "#C8D4E3"
                          },
                          "line": {
                            "color": "white"
                          }
                        },
                        "type": "table"
                      }
                    ]
                  },
                  "layout": {
                    "annotationdefaults": {
                      "arrowcolor": "#2a3f5f",
                      "arrowhead": 0,
                      "arrowwidth": 1
                    },
                    "autotypenumbers": "strict",
                    "coloraxis": {
                      "colorbar": {
                        "outlinewidth": 0,
                        "ticks": ""
                      }
                    },
                    "colorscale": {
                      "diverging": [
                        [
                          0,
                          "#8e0152"
                        ],
                        [
                          0.1,
                          "#c51b7d"
                        ],
                        [
                          0.2,
                          "#de77ae"
                        ],
                        [
                          0.3,
                          "#f1b6da"
                        ],
                        [
                          0.4,
                          "#fde0ef"
                        ],
                        [
                          0.5,
                          "#f7f7f7"
                        ],
                        [
                          0.6,
                          "#e6f5d0"
                        ],
                        [
                          0.7,
                          "#b8e186"
                        ],
                        [
                          0.8,
                          "#7fbc41"
                        ],
                        [
                          0.9,
                          "#4d9221"
                        ],
                        [
                          1,
                          "#276419"
                        ]
                      ],
                      "sequential": [
                        [
                          0,
                          "#0d0887"
                        ],
                        [
                          0.1111111111111111,
                          "#46039f"
                        ],
                        [
                          0.2222222222222222,
                          "#7201a8"
                        ],
                        [
                          0.3333333333333333,
                          "#9c179e"
                        ],
                        [
                          0.4444444444444444,
                          "#bd3786"
                        ],
                        [
                          0.5555555555555556,
                          "#d8576b"
                        ],
                        [
                          0.6666666666666666,
                          "#ed7953"
                        ],
                        [
                          0.7777777777777778,
                          "#fb9f3a"
                        ],
                        [
                          0.8888888888888888,
                          "#fdca26"
                        ],
                        [
                          1,
                          "#f0f921"
                        ]
                      ],
                      "sequentialminus": [
                        [
                          0,
                          "#0d0887"
                        ],
                        [
                          0.1111111111111111,
                          "#46039f"
                        ],
                        [
                          0.2222222222222222,
                          "#7201a8"
                        ],
                        [
                          0.3333333333333333,
                          "#9c179e"
                        ],
                        [
                          0.4444444444444444,
                          "#bd3786"
                        ],
                        [
                          0.5555555555555556,
                          "#d8576b"
                        ],
                        [
                          0.6666666666666666,
                          "#ed7953"
                        ],
                        [
                          0.7777777777777778,
                          "#fb9f3a"
                        ],
                        [
                          0.8888888888888888,
                          "#fdca26"
                        ],
                        [
                          1,
                          "#f0f921"
                        ]
                      ]
                    },
                    "colorway": [
                      "#636efa",
                      "#EF553B",
                      "#00cc96",
                      "#ab63fa",
                      "#FFA15A",
                      "#19d3f3",
                      "#FF6692",
                      "#B6E880",
                      "#FF97FF",
                      "#FECB52"
                    ],
                    "font": {
                      "color": "#2a3f5f"
                    },
                    "geo": {
                      "bgcolor": "white",
                      "lakecolor": "white",
                      "landcolor": "#E5ECF6",
                      "showlakes": true,
                      "showland": true,
                      "subunitcolor": "white"
                    },
                    "hoverlabel": {
                      "align": "left"
                    },
                    "hovermode": "closest",
                    "mapbox": {
                      "style": "light"
                    },
                    "paper_bgcolor": "white",
                    "plot_bgcolor": "#E5ECF6",
                    "polar": {
                      "angularaxis": {
                        "gridcolor": "white",
                        "linecolor": "white",
                        "ticks": ""
                      },
                      "bgcolor": "#E5ECF6",
                      "radialaxis": {
                        "gridcolor": "white",
                        "linecolor": "white",
                        "ticks": ""
                      }
                    },
                    "scene": {
                      "xaxis": {
                        "backgroundcolor": "#E5ECF6",
                        "gridcolor": "white",
                        "gridwidth": 2,
                        "linecolor": "white",
                        "showbackground": true,
                        "ticks": "",
                        "zerolinecolor": "white"
                      },
                      "yaxis": {
                        "backgroundcolor": "#E5ECF6",
                        "gridcolor": "white",
                        "gridwidth": 2,
                        "linecolor": "white",
                        "showbackground": true,
                        "ticks": "",
                        "zerolinecolor": "white"
                      },
                      "zaxis": {
                        "backgroundcolor": "#E5ECF6",
                        "gridcolor": "white",
                        "gridwidth": 2,
                        "linecolor": "white",
                        "showbackground": true,
                        "ticks": "",
                        "zerolinecolor": "white"
                      }
                    },
                    "shapedefaults": {
                      "line": {
                        "color": "#2a3f5f"
                      }
                    },
                    "ternary": {
                      "aaxis": {
                        "gridcolor": "white",
                        "linecolor": "white",
                        "ticks": ""
                      },
                      "baxis": {
                        "gridcolor": "white",
                        "linecolor": "white",
                        "ticks": ""
                      },
                      "bgcolor": "#E5ECF6",
                      "caxis": {
                        "gridcolor": "white",
                        "linecolor": "white",
                        "ticks": ""
                      }
                    },
                    "title": {
                      "x": 0.05
                    },
                    "xaxis": {
                      "automargin": true,
                      "gridcolor": "white",
                      "linecolor": "white",
                      "ticks": "",
                      "title": {
                        "standoff": 15
                      },
                      "zerolinecolor": "white",
                      "zerolinewidth": 2
                    },
                    "yaxis": {
                      "automargin": true,
                      "gridcolor": "white",
                      "linecolor": "white",
                      "ticks": "",
                      "title": {
                        "standoff": 15
                      },
                      "zerolinecolor": "white",
                      "zerolinewidth": 2
                    }
                  }
                }
              }
            }
          },
          "metadata": {},
          "output_type": "display_data"
        }
      ],
      "source": [
        "import plotly.express as px\n",
        "\n",
        "data_frame = pd.DataFrame(columns = [\"lat\", \"lng\"])\n",
        "\n",
        "moscow_center_lat = 55.753600\n",
        "moscow_center_lng = 37.621184\n",
        "\n",
        "for i in range(len(lats)):\n",
        "    data_frame.loc[i] = [lats[i], lngs[i]]\n",
        "\n",
        "\n",
        "fig = px.scatter_mapbox(data_frame, \n",
        "                        lat=\"lat\", lon=\"lng\", \n",
        "                        hover_name=\"lat\", \n",
        "                        color_discrete_sequence=[\"fuchsia\"], \n",
        "                        zoom=10, \n",
        "                        center={'lon': moscow_center_lng, 'lat':moscow_center_lat},\n",
        "                        height=700)\n",
        "\n",
        "fig.update_layout(mapbox_style=\"open-street-map\")\n",
        "fig.update_layout(margin={\"r\":0,\"t\":0,\"l\":0,\"b\":0})\n",
        "fig.show()"
      ]
    },
    {
      "cell_type": "markdown",
      "metadata": {
        "id": "u-p3Llc361PN"
      },
      "source": [
        "(2 балла) **Сделайте выводы о проделанной работе:**"
      ]
    },
    {
      "cell_type": "markdown",
      "metadata": {
        "id": "G1c3d-qALobz"
      },
      "source": [
        ">*Подсказки для маленьких: Что вы можете сказать про районы Москвы? Что вы можете сказать про зарплаты? Что вы можете сказать про спрос?*"
      ]
    },
    {
      "cell_type": "markdown",
      "metadata": {},
      "source": [
        "По этим данным мы можем сказать, что в центре Москвы есть большой спрос на услуги, которые мы искали. Из этого можно сделать вывод, что у жителей центра более высокая покупательная способность, чем у жителей за МКАДом. В большинстве своём, основная часть профессий за МКАДом, скорее всего, связана с работой кассиров (поскольку людям все-таки нужно ходить в магазины и покупать продукты), а также, возможно, репетиторством (поскольку это также одна из распространённых профессий в общем сравнении с другими)."
      ]
    },
    {
      "cell_type": "markdown",
      "metadata": {
        "id": "gkPpbtBuVqwc"
      },
      "source": [
        "Ваши выводы здесь :)"
      ]
    },
    {
      "cell_type": "markdown",
      "metadata": {
        "id": "wVcCTF_Zz58q"
      },
      "source": [
        "## Задание 2. Анализ данных - 20 баллов"
      ]
    },
    {
      "cell_type": "markdown",
      "metadata": {
        "id": "lii5YFuucxR2"
      },
      "source": [
        "Вам предстоит проанализировать датасет, содержащий информацию об бриллианта, их стоимости и остальных характеристиках."
      ]
    },
    {
      "cell_type": "markdown",
      "metadata": {
        "id": "CvEO3-NI0Gez"
      },
      "source": [
        "\n",
        "\n",
        "Поясним значения хранящиеся в колонках:\n",
        "*   `cut` - огранка бриллианта (относится к одной из примерно 10 наиболее распространенных)\n",
        "*   `color` - цвет бриллианта, прозрачные бриллианты имеют градацию `D-Z`, \"более высокие\" буквы - более желтоватые, но часто имеют лучшие значения, поскольку цвет трудно определить один раз в кольце\n",
        "*   `clarity` - чистота бриллианта, наличие включений (внутренних дефектов), чем меньше и мельче, тем лучше\n",
        "*   `carat_weight` - масса бриллианта (слабо связана с размером бриллианта, т.к. огранка и качество огранки, как правило, играют большую роль)\n",
        "*   `cut_quality` - качество ограники по системе оценки GIA Cut\n",
        "*   `lab` - лаборатория оценивания\n",
        "*   `meas_length` - длина бриллианта\n",
        "*   `meas_width` - ширина бриллианта\n",
        "*   `meas_depth` - глубина бриллианта\n",
        "*   `total_sales_price` - цена бриллианта в долларах.\n",
        "*    **и прочие колонки**"
      ]
    },
    {
      "cell_type": "markdown",
      "metadata": {
        "id": "7mK1QntN6ZXh"
      },
      "source": [
        "Скачаем данные:"
      ]
    },
    {
      "cell_type": "code",
      "execution_count": 28,
      "metadata": {
        "colab": {
          "base_uri": "https://localhost:8080/"
        },
        "id": "LnCK3gCoebjw",
        "outputId": "9f5f22ac-c1e8-436d-8157-ff29ab3d8ada"
      },
      "outputs": [
        {
          "name": "stdout",
          "output_type": "stream",
          "text": [
            "/bin/bash: строка 1: gdown: команда не найдена\n"
          ]
        }
      ],
      "source": [
        "!gdown 10OJ30qlkE-7zK4JuVTDMY3U4nRB4tu_8"
      ]
    },
    {
      "cell_type": "markdown",
      "metadata": {
        "id": "wfSqVYoIfi3-"
      },
      "source": [
        "Создадим DataFrame:"
      ]
    },
    {
      "cell_type": "code",
      "execution_count": 29,
      "metadata": {
        "colab": {
          "base_uri": "https://localhost:8080/",
          "height": 548
        },
        "id": "cDgRJzRp6Ow4",
        "outputId": "5fb4495b-3a51-4b04-bff2-1b95c84b0ea5"
      },
      "outputs": [
        {
          "data": {
            "text/html": [
              "<div>\n",
              "<style scoped>\n",
              "    .dataframe tbody tr th:only-of-type {\n",
              "        vertical-align: middle;\n",
              "    }\n",
              "\n",
              "    .dataframe tbody tr th {\n",
              "        vertical-align: top;\n",
              "    }\n",
              "\n",
              "    .dataframe thead th {\n",
              "        text-align: right;\n",
              "    }\n",
              "</style>\n",
              "<table border=\"1\" class=\"dataframe\">\n",
              "  <thead>\n",
              "    <tr style=\"text-align: right;\">\n",
              "      <th></th>\n",
              "      <th>Unnamed: 0</th>\n",
              "      <th>cut</th>\n",
              "      <th>color</th>\n",
              "      <th>clarity</th>\n",
              "      <th>carat_weight</th>\n",
              "      <th>cut_quality</th>\n",
              "      <th>lab</th>\n",
              "      <th>symmetry</th>\n",
              "      <th>polish</th>\n",
              "      <th>eye_clean</th>\n",
              "      <th>...</th>\n",
              "      <th>meas_depth</th>\n",
              "      <th>girdle_min</th>\n",
              "      <th>girdle_max</th>\n",
              "      <th>fluor_color</th>\n",
              "      <th>fluor_intensity</th>\n",
              "      <th>fancy_color_dominant_color</th>\n",
              "      <th>fancy_color_secondary_color</th>\n",
              "      <th>fancy_color_overtone</th>\n",
              "      <th>fancy_color_intensity</th>\n",
              "      <th>total_sales_price</th>\n",
              "    </tr>\n",
              "  </thead>\n",
              "  <tbody>\n",
              "    <tr>\n",
              "      <th>0</th>\n",
              "      <td>0</td>\n",
              "      <td>Round</td>\n",
              "      <td>E</td>\n",
              "      <td>VVS2</td>\n",
              "      <td>0.09</td>\n",
              "      <td>Excellent</td>\n",
              "      <td>IGI</td>\n",
              "      <td>Very Good</td>\n",
              "      <td>Very Good</td>\n",
              "      <td>unknown</td>\n",
              "      <td>...</td>\n",
              "      <td>1.79</td>\n",
              "      <td>M</td>\n",
              "      <td>M</td>\n",
              "      <td>unknown</td>\n",
              "      <td>NaN</td>\n",
              "      <td>unknown</td>\n",
              "      <td>unknown</td>\n",
              "      <td>unknown</td>\n",
              "      <td>unknown</td>\n",
              "      <td>200</td>\n",
              "    </tr>\n",
              "    <tr>\n",
              "      <th>1</th>\n",
              "      <td>1</td>\n",
              "      <td>Round</td>\n",
              "      <td>E</td>\n",
              "      <td>VVS2</td>\n",
              "      <td>0.09</td>\n",
              "      <td>Very Good</td>\n",
              "      <td>IGI</td>\n",
              "      <td>Very Good</td>\n",
              "      <td>Very Good</td>\n",
              "      <td>unknown</td>\n",
              "      <td>...</td>\n",
              "      <td>1.78</td>\n",
              "      <td>STK</td>\n",
              "      <td>STK</td>\n",
              "      <td>unknown</td>\n",
              "      <td>NaN</td>\n",
              "      <td>unknown</td>\n",
              "      <td>unknown</td>\n",
              "      <td>unknown</td>\n",
              "      <td>unknown</td>\n",
              "      <td>200</td>\n",
              "    </tr>\n",
              "    <tr>\n",
              "      <th>2</th>\n",
              "      <td>2</td>\n",
              "      <td>Round</td>\n",
              "      <td>E</td>\n",
              "      <td>VVS2</td>\n",
              "      <td>0.09</td>\n",
              "      <td>Excellent</td>\n",
              "      <td>IGI</td>\n",
              "      <td>Very Good</td>\n",
              "      <td>Very Good</td>\n",
              "      <td>unknown</td>\n",
              "      <td>...</td>\n",
              "      <td>1.77</td>\n",
              "      <td>TN</td>\n",
              "      <td>M</td>\n",
              "      <td>unknown</td>\n",
              "      <td>NaN</td>\n",
              "      <td>unknown</td>\n",
              "      <td>unknown</td>\n",
              "      <td>unknown</td>\n",
              "      <td>unknown</td>\n",
              "      <td>200</td>\n",
              "    </tr>\n",
              "    <tr>\n",
              "      <th>3</th>\n",
              "      <td>3</td>\n",
              "      <td>Round</td>\n",
              "      <td>E</td>\n",
              "      <td>VVS2</td>\n",
              "      <td>0.09</td>\n",
              "      <td>Excellent</td>\n",
              "      <td>IGI</td>\n",
              "      <td>Very Good</td>\n",
              "      <td>Very Good</td>\n",
              "      <td>unknown</td>\n",
              "      <td>...</td>\n",
              "      <td>1.78</td>\n",
              "      <td>M</td>\n",
              "      <td>STK</td>\n",
              "      <td>unknown</td>\n",
              "      <td>NaN</td>\n",
              "      <td>unknown</td>\n",
              "      <td>unknown</td>\n",
              "      <td>unknown</td>\n",
              "      <td>unknown</td>\n",
              "      <td>200</td>\n",
              "    </tr>\n",
              "    <tr>\n",
              "      <th>4</th>\n",
              "      <td>4</td>\n",
              "      <td>Round</td>\n",
              "      <td>E</td>\n",
              "      <td>VVS2</td>\n",
              "      <td>0.09</td>\n",
              "      <td>Very Good</td>\n",
              "      <td>IGI</td>\n",
              "      <td>Very Good</td>\n",
              "      <td>Excellent</td>\n",
              "      <td>unknown</td>\n",
              "      <td>...</td>\n",
              "      <td>1.82</td>\n",
              "      <td>STK</td>\n",
              "      <td>STK</td>\n",
              "      <td>unknown</td>\n",
              "      <td>NaN</td>\n",
              "      <td>unknown</td>\n",
              "      <td>unknown</td>\n",
              "      <td>unknown</td>\n",
              "      <td>unknown</td>\n",
              "      <td>200</td>\n",
              "    </tr>\n",
              "    <tr>\n",
              "      <th>...</th>\n",
              "      <td>...</td>\n",
              "      <td>...</td>\n",
              "      <td>...</td>\n",
              "      <td>...</td>\n",
              "      <td>...</td>\n",
              "      <td>...</td>\n",
              "      <td>...</td>\n",
              "      <td>...</td>\n",
              "      <td>...</td>\n",
              "      <td>...</td>\n",
              "      <td>...</td>\n",
              "      <td>...</td>\n",
              "      <td>...</td>\n",
              "      <td>...</td>\n",
              "      <td>...</td>\n",
              "      <td>...</td>\n",
              "      <td>...</td>\n",
              "      <td>...</td>\n",
              "      <td>...</td>\n",
              "      <td>...</td>\n",
              "      <td>...</td>\n",
              "    </tr>\n",
              "    <tr>\n",
              "      <th>219698</th>\n",
              "      <td>219699</td>\n",
              "      <td>Round</td>\n",
              "      <td>E</td>\n",
              "      <td>VS1</td>\n",
              "      <td>10.65</td>\n",
              "      <td>Excellent</td>\n",
              "      <td>GIA</td>\n",
              "      <td>Excellent</td>\n",
              "      <td>Excellent</td>\n",
              "      <td>unknown</td>\n",
              "      <td>...</td>\n",
              "      <td>8.66</td>\n",
              "      <td>M</td>\n",
              "      <td>STK</td>\n",
              "      <td>unknown</td>\n",
              "      <td>NaN</td>\n",
              "      <td>unknown</td>\n",
              "      <td>unknown</td>\n",
              "      <td>unknown</td>\n",
              "      <td>unknown</td>\n",
              "      <td>1210692</td>\n",
              "    </tr>\n",
              "    <tr>\n",
              "      <th>219699</th>\n",
              "      <td>219700</td>\n",
              "      <td>Radiant</td>\n",
              "      <td>unknown</td>\n",
              "      <td>VS2</td>\n",
              "      <td>5.17</td>\n",
              "      <td>unknown</td>\n",
              "      <td>GIA</td>\n",
              "      <td>Very Good</td>\n",
              "      <td>Very Good</td>\n",
              "      <td>unknown</td>\n",
              "      <td>...</td>\n",
              "      <td>5.71</td>\n",
              "      <td>TK</td>\n",
              "      <td>XTK</td>\n",
              "      <td>unknown</td>\n",
              "      <td>NaN</td>\n",
              "      <td>Green</td>\n",
              "      <td>unknown</td>\n",
              "      <td>NaN</td>\n",
              "      <td>Fancy Light</td>\n",
              "      <td>1292500</td>\n",
              "    </tr>\n",
              "    <tr>\n",
              "      <th>219700</th>\n",
              "      <td>219701</td>\n",
              "      <td>Round</td>\n",
              "      <td>E</td>\n",
              "      <td>VS1</td>\n",
              "      <td>18.07</td>\n",
              "      <td>Excellent</td>\n",
              "      <td>GIA</td>\n",
              "      <td>Excellent</td>\n",
              "      <td>Excellent</td>\n",
              "      <td>unknown</td>\n",
              "      <td>...</td>\n",
              "      <td>10.20</td>\n",
              "      <td>TN</td>\n",
              "      <td>M</td>\n",
              "      <td>unknown</td>\n",
              "      <td>NaN</td>\n",
              "      <td>unknown</td>\n",
              "      <td>unknown</td>\n",
              "      <td>unknown</td>\n",
              "      <td>unknown</td>\n",
              "      <td>1315496</td>\n",
              "    </tr>\n",
              "    <tr>\n",
              "      <th>219701</th>\n",
              "      <td>219702</td>\n",
              "      <td>Princess</td>\n",
              "      <td>unknown</td>\n",
              "      <td>SI2</td>\n",
              "      <td>0.90</td>\n",
              "      <td>unknown</td>\n",
              "      <td>GIA</td>\n",
              "      <td>Good</td>\n",
              "      <td>Good</td>\n",
              "      <td>unknown</td>\n",
              "      <td>...</td>\n",
              "      <td>3.47</td>\n",
              "      <td>XTN</td>\n",
              "      <td>VTK</td>\n",
              "      <td>unknown</td>\n",
              "      <td>Faint</td>\n",
              "      <td>Red</td>\n",
              "      <td>unknown</td>\n",
              "      <td>unknown</td>\n",
              "      <td>Fancy</td>\n",
              "      <td>1350000</td>\n",
              "    </tr>\n",
              "    <tr>\n",
              "      <th>219702</th>\n",
              "      <td>219703</td>\n",
              "      <td>Pear</td>\n",
              "      <td>unknown</td>\n",
              "      <td>VVS2</td>\n",
              "      <td>10.03</td>\n",
              "      <td>unknown</td>\n",
              "      <td>GIA</td>\n",
              "      <td>Very Good</td>\n",
              "      <td>Excellent</td>\n",
              "      <td>unknown</td>\n",
              "      <td>...</td>\n",
              "      <td>7.39</td>\n",
              "      <td>unknown</td>\n",
              "      <td>unknown</td>\n",
              "      <td>unknown</td>\n",
              "      <td>NaN</td>\n",
              "      <td>Yellow</td>\n",
              "      <td>unknown</td>\n",
              "      <td>unknown</td>\n",
              "      <td>Fancy Vivid</td>\n",
              "      <td>1449881</td>\n",
              "    </tr>\n",
              "  </tbody>\n",
              "</table>\n",
              "<p>219703 rows × 26 columns</p>\n",
              "</div>"
            ],
            "text/plain": [
              "        Unnamed: 0       cut    color clarity  carat_weight cut_quality  lab  \\\n",
              "0                0     Round        E    VVS2          0.09   Excellent  IGI   \n",
              "1                1     Round        E    VVS2          0.09   Very Good  IGI   \n",
              "2                2     Round        E    VVS2          0.09   Excellent  IGI   \n",
              "3                3     Round        E    VVS2          0.09   Excellent  IGI   \n",
              "4                4     Round        E    VVS2          0.09   Very Good  IGI   \n",
              "...            ...       ...      ...     ...           ...         ...  ...   \n",
              "219698      219699     Round        E     VS1         10.65   Excellent  GIA   \n",
              "219699      219700   Radiant  unknown     VS2          5.17     unknown  GIA   \n",
              "219700      219701     Round        E     VS1         18.07   Excellent  GIA   \n",
              "219701      219702  Princess  unknown     SI2          0.90     unknown  GIA   \n",
              "219702      219703      Pear  unknown    VVS2         10.03     unknown  GIA   \n",
              "\n",
              "         symmetry     polish eye_clean  ... meas_depth girdle_min  girdle_max  \\\n",
              "0       Very Good  Very Good   unknown  ...       1.79          M           M   \n",
              "1       Very Good  Very Good   unknown  ...       1.78        STK         STK   \n",
              "2       Very Good  Very Good   unknown  ...       1.77         TN           M   \n",
              "3       Very Good  Very Good   unknown  ...       1.78          M         STK   \n",
              "4       Very Good  Excellent   unknown  ...       1.82        STK         STK   \n",
              "...           ...        ...       ...  ...        ...        ...         ...   \n",
              "219698  Excellent  Excellent   unknown  ...       8.66          M         STK   \n",
              "219699  Very Good  Very Good   unknown  ...       5.71         TK         XTK   \n",
              "219700  Excellent  Excellent   unknown  ...      10.20         TN           M   \n",
              "219701       Good       Good   unknown  ...       3.47        XTN         VTK   \n",
              "219702  Very Good  Excellent   unknown  ...       7.39    unknown     unknown   \n",
              "\n",
              "        fluor_color  fluor_intensity  fancy_color_dominant_color  \\\n",
              "0           unknown              NaN                     unknown   \n",
              "1           unknown              NaN                     unknown   \n",
              "2           unknown              NaN                     unknown   \n",
              "3           unknown              NaN                     unknown   \n",
              "4           unknown              NaN                     unknown   \n",
              "...             ...              ...                         ...   \n",
              "219698      unknown              NaN                     unknown   \n",
              "219699      unknown              NaN                       Green   \n",
              "219700      unknown              NaN                     unknown   \n",
              "219701      unknown            Faint                         Red   \n",
              "219702      unknown              NaN                      Yellow   \n",
              "\n",
              "        fancy_color_secondary_color fancy_color_overtone  \\\n",
              "0                           unknown              unknown   \n",
              "1                           unknown              unknown   \n",
              "2                           unknown              unknown   \n",
              "3                           unknown              unknown   \n",
              "4                           unknown              unknown   \n",
              "...                             ...                  ...   \n",
              "219698                      unknown              unknown   \n",
              "219699                      unknown                  NaN   \n",
              "219700                      unknown              unknown   \n",
              "219701                      unknown              unknown   \n",
              "219702                      unknown              unknown   \n",
              "\n",
              "       fancy_color_intensity total_sales_price  \n",
              "0                    unknown               200  \n",
              "1                    unknown               200  \n",
              "2                    unknown               200  \n",
              "3                    unknown               200  \n",
              "4                    unknown               200  \n",
              "...                      ...               ...  \n",
              "219698               unknown           1210692  \n",
              "219699           Fancy Light           1292500  \n",
              "219700               unknown           1315496  \n",
              "219701                 Fancy           1350000  \n",
              "219702           Fancy Vivid           1449881  \n",
              "\n",
              "[219703 rows x 26 columns]"
            ]
          },
          "execution_count": 29,
          "metadata": {},
          "output_type": "execute_result"
        }
      ],
      "source": [
        "import pandas as pd\n",
        "\n",
        "diamonds = pd.read_csv(\"diamonds.csv\")\n",
        "diamonds"
      ]
    },
    {
      "cell_type": "markdown",
      "metadata": {
        "id": "vlw_3lXG6bhv"
      },
      "source": [
        "(0.5 балла) Выведете первые 5 строк датасета:"
      ]
    },
    {
      "cell_type": "code",
      "execution_count": 36,
      "metadata": {
        "id": "gHA-AnSE6fth"
      },
      "outputs": [
        {
          "data": {
            "text/html": [
              "<div>\n",
              "<style scoped>\n",
              "    .dataframe tbody tr th:only-of-type {\n",
              "        vertical-align: middle;\n",
              "    }\n",
              "\n",
              "    .dataframe tbody tr th {\n",
              "        vertical-align: top;\n",
              "    }\n",
              "\n",
              "    .dataframe thead th {\n",
              "        text-align: right;\n",
              "    }\n",
              "</style>\n",
              "<table border=\"1\" class=\"dataframe\">\n",
              "  <thead>\n",
              "    <tr style=\"text-align: right;\">\n",
              "      <th></th>\n",
              "      <th>Unnamed: 0</th>\n",
              "      <th>cut</th>\n",
              "      <th>color</th>\n",
              "      <th>clarity</th>\n",
              "      <th>carat_weight</th>\n",
              "      <th>cut_quality</th>\n",
              "      <th>lab</th>\n",
              "      <th>symmetry</th>\n",
              "      <th>polish</th>\n",
              "      <th>eye_clean</th>\n",
              "      <th>...</th>\n",
              "      <th>meas_depth</th>\n",
              "      <th>girdle_min</th>\n",
              "      <th>girdle_max</th>\n",
              "      <th>fluor_color</th>\n",
              "      <th>fluor_intensity</th>\n",
              "      <th>fancy_color_dominant_color</th>\n",
              "      <th>fancy_color_secondary_color</th>\n",
              "      <th>fancy_color_overtone</th>\n",
              "      <th>fancy_color_intensity</th>\n",
              "      <th>total_sales_price</th>\n",
              "    </tr>\n",
              "  </thead>\n",
              "  <tbody>\n",
              "    <tr>\n",
              "      <th>0</th>\n",
              "      <td>0</td>\n",
              "      <td>Round</td>\n",
              "      <td>E</td>\n",
              "      <td>VVS2</td>\n",
              "      <td>0.09</td>\n",
              "      <td>Excellent</td>\n",
              "      <td>IGI</td>\n",
              "      <td>Very Good</td>\n",
              "      <td>Very Good</td>\n",
              "      <td>unknown</td>\n",
              "      <td>...</td>\n",
              "      <td>1.79</td>\n",
              "      <td>M</td>\n",
              "      <td>M</td>\n",
              "      <td>unknown</td>\n",
              "      <td>NaN</td>\n",
              "      <td>unknown</td>\n",
              "      <td>unknown</td>\n",
              "      <td>unknown</td>\n",
              "      <td>unknown</td>\n",
              "      <td>200</td>\n",
              "    </tr>\n",
              "    <tr>\n",
              "      <th>1</th>\n",
              "      <td>1</td>\n",
              "      <td>Round</td>\n",
              "      <td>E</td>\n",
              "      <td>VVS2</td>\n",
              "      <td>0.09</td>\n",
              "      <td>Very Good</td>\n",
              "      <td>IGI</td>\n",
              "      <td>Very Good</td>\n",
              "      <td>Very Good</td>\n",
              "      <td>unknown</td>\n",
              "      <td>...</td>\n",
              "      <td>1.78</td>\n",
              "      <td>STK</td>\n",
              "      <td>STK</td>\n",
              "      <td>unknown</td>\n",
              "      <td>NaN</td>\n",
              "      <td>unknown</td>\n",
              "      <td>unknown</td>\n",
              "      <td>unknown</td>\n",
              "      <td>unknown</td>\n",
              "      <td>200</td>\n",
              "    </tr>\n",
              "    <tr>\n",
              "      <th>2</th>\n",
              "      <td>2</td>\n",
              "      <td>Round</td>\n",
              "      <td>E</td>\n",
              "      <td>VVS2</td>\n",
              "      <td>0.09</td>\n",
              "      <td>Excellent</td>\n",
              "      <td>IGI</td>\n",
              "      <td>Very Good</td>\n",
              "      <td>Very Good</td>\n",
              "      <td>unknown</td>\n",
              "      <td>...</td>\n",
              "      <td>1.77</td>\n",
              "      <td>TN</td>\n",
              "      <td>M</td>\n",
              "      <td>unknown</td>\n",
              "      <td>NaN</td>\n",
              "      <td>unknown</td>\n",
              "      <td>unknown</td>\n",
              "      <td>unknown</td>\n",
              "      <td>unknown</td>\n",
              "      <td>200</td>\n",
              "    </tr>\n",
              "    <tr>\n",
              "      <th>3</th>\n",
              "      <td>3</td>\n",
              "      <td>Round</td>\n",
              "      <td>E</td>\n",
              "      <td>VVS2</td>\n",
              "      <td>0.09</td>\n",
              "      <td>Excellent</td>\n",
              "      <td>IGI</td>\n",
              "      <td>Very Good</td>\n",
              "      <td>Very Good</td>\n",
              "      <td>unknown</td>\n",
              "      <td>...</td>\n",
              "      <td>1.78</td>\n",
              "      <td>M</td>\n",
              "      <td>STK</td>\n",
              "      <td>unknown</td>\n",
              "      <td>NaN</td>\n",
              "      <td>unknown</td>\n",
              "      <td>unknown</td>\n",
              "      <td>unknown</td>\n",
              "      <td>unknown</td>\n",
              "      <td>200</td>\n",
              "    </tr>\n",
              "    <tr>\n",
              "      <th>4</th>\n",
              "      <td>4</td>\n",
              "      <td>Round</td>\n",
              "      <td>E</td>\n",
              "      <td>VVS2</td>\n",
              "      <td>0.09</td>\n",
              "      <td>Very Good</td>\n",
              "      <td>IGI</td>\n",
              "      <td>Very Good</td>\n",
              "      <td>Excellent</td>\n",
              "      <td>unknown</td>\n",
              "      <td>...</td>\n",
              "      <td>1.82</td>\n",
              "      <td>STK</td>\n",
              "      <td>STK</td>\n",
              "      <td>unknown</td>\n",
              "      <td>NaN</td>\n",
              "      <td>unknown</td>\n",
              "      <td>unknown</td>\n",
              "      <td>unknown</td>\n",
              "      <td>unknown</td>\n",
              "      <td>200</td>\n",
              "    </tr>\n",
              "  </tbody>\n",
              "</table>\n",
              "<p>5 rows × 26 columns</p>\n",
              "</div>"
            ],
            "text/plain": [
              "   Unnamed: 0    cut color clarity  carat_weight cut_quality  lab   symmetry  \\\n",
              "0           0  Round     E    VVS2          0.09   Excellent  IGI  Very Good   \n",
              "1           1  Round     E    VVS2          0.09   Very Good  IGI  Very Good   \n",
              "2           2  Round     E    VVS2          0.09   Excellent  IGI  Very Good   \n",
              "3           3  Round     E    VVS2          0.09   Excellent  IGI  Very Good   \n",
              "4           4  Round     E    VVS2          0.09   Very Good  IGI  Very Good   \n",
              "\n",
              "      polish eye_clean  ... meas_depth girdle_min  girdle_max  fluor_color  \\\n",
              "0  Very Good   unknown  ...       1.79          M           M      unknown   \n",
              "1  Very Good   unknown  ...       1.78        STK         STK      unknown   \n",
              "2  Very Good   unknown  ...       1.77         TN           M      unknown   \n",
              "3  Very Good   unknown  ...       1.78          M         STK      unknown   \n",
              "4  Excellent   unknown  ...       1.82        STK         STK      unknown   \n",
              "\n",
              "   fluor_intensity  fancy_color_dominant_color  fancy_color_secondary_color  \\\n",
              "0              NaN                     unknown                      unknown   \n",
              "1              NaN                     unknown                      unknown   \n",
              "2              NaN                     unknown                      unknown   \n",
              "3              NaN                     unknown                      unknown   \n",
              "4              NaN                     unknown                      unknown   \n",
              "\n",
              "  fancy_color_overtone fancy_color_intensity total_sales_price  \n",
              "0              unknown               unknown               200  \n",
              "1              unknown               unknown               200  \n",
              "2              unknown               unknown               200  \n",
              "3              unknown               unknown               200  \n",
              "4              unknown               unknown               200  \n",
              "\n",
              "[5 rows x 26 columns]"
            ]
          },
          "execution_count": 36,
          "metadata": {},
          "output_type": "execute_result"
        }
      ],
      "source": [
        "diamonds.head(5)"
      ]
    },
    {
      "cell_type": "markdown",
      "metadata": {
        "id": "gat7bnPQ6fCE"
      },
      "source": [
        "(0.5 балла) Найдите количество бриллиантов всего в данном датасете:"
      ]
    },
    {
      "cell_type": "code",
      "execution_count": 32,
      "metadata": {
        "id": "-9x6z3-J7C-v"
      },
      "outputs": [
        {
          "data": {
            "text/plain": [
              "219703"
            ]
          },
          "execution_count": 32,
          "metadata": {},
          "output_type": "execute_result"
        }
      ],
      "source": [
        "len(diamonds)"
      ]
    },
    {
      "cell_type": "markdown",
      "metadata": {
        "id": "fYQuIdtL7DFp"
      },
      "source": [
        "(0.5 балла) Выведите максимальную и минимальную цену бриллианта в формате `номер - цена`:"
      ]
    },
    {
      "cell_type": "code",
      "execution_count": 50,
      "metadata": {
        "id": "D_7sjzjP7SEj"
      },
      "outputs": [
        {
          "name": "stdout",
          "output_type": "stream",
          "text": [
            "219702 - 1449881\n",
            "0 - 1449881\n"
          ]
        }
      ],
      "source": [
        "key_max = max_index = diamonds['total_sales_price'].idxmax()\n",
        "max = diamonds['total_sales_price'].loc[key_max]\n",
        "\n",
        "key_min = max_index = diamonds['total_sales_price'].idxmin()\n",
        "min = diamonds['total_sales_price'].loc[key_min]\n",
        "print(f'{key_max} - {max}')\n",
        "print(f'{key_min} - {max}')\n",
        "\n"
      ]
    },
    {
      "cell_type": "markdown",
      "metadata": {
        "id": "E2mf4IIO7SOg"
      },
      "source": [
        "(1 балл) Посчитайте количество пропусков (пропуском считается значение `unknown` или `None`):"
      ]
    },
    {
      "cell_type": "code",
      "execution_count": 59,
      "metadata": {
        "id": "BuJZ0UoN7qAU"
      },
      "outputs": [
        {
          "data": {
            "text/plain": [
              "1746027"
            ]
          },
          "execution_count": 59,
          "metadata": {},
          "output_type": "execute_result"
        }
      ],
      "source": [
        "diamonds[diamonds.isin(['None', 'unknown'])].count().sum()"
      ]
    },
    {
      "cell_type": "markdown",
      "metadata": {
        "id": "d5LWUc_fh0vb"
      },
      "source": [
        "(1 балл) Найдите в каких столбцах присутствуют пропуски:"
      ]
    },
    {
      "cell_type": "code",
      "execution_count": 65,
      "metadata": {
        "id": "IsU49Fouh5vy"
      },
      "outputs": [
        {
          "data": {
            "text/plain": [
              "array(['color', 'cut_quality', 'eye_clean', 'culet_size',\n",
              "       'culet_condition', 'girdle_min', 'girdle_max', 'fluor_color',\n",
              "       'fluor_intensity', 'fancy_color_dominant_color',\n",
              "       'fancy_color_secondary_color', 'fancy_color_overtone',\n",
              "       'fancy_color_intensity'], dtype=object)"
            ]
          },
          "execution_count": 65,
          "metadata": {},
          "output_type": "execute_result"
        }
      ],
      "source": [
        "boolean = diamonds.isin(['unknown', 'None'])\n",
        "boolean = boolean.loc[:, boolean.sum() > 0]\n",
        "boolean.columns.values"
      ]
    },
    {
      "cell_type": "markdown",
      "metadata": {
        "id": "UznNZpJ47qGX"
      },
      "source": [
        "В нашем датасете присутствуют колонки, которые начинаются с `fancy_color_` или `fluor_`. Большинство значений в этих колонках - `unknown` или `None`, поэтому мы считаем их малоинформативными."
      ]
    },
    {
      "cell_type": "markdown",
      "metadata": {
        "id": "Rkk6Hr2Ui87X"
      },
      "source": [
        "Ваша задача:"
      ]
    },
    {
      "cell_type": "markdown",
      "metadata": {
        "id": "YYBDAgSSi-JU"
      },
      "source": [
        "1. (0.5 балла) найти количество таких колонок, которые начинаются с `fancy_color_` или `fluor_`:"
      ]
    },
    {
      "cell_type": "code",
      "execution_count": null,
      "metadata": {
        "id": "nbTUkk4T8-wO"
      },
      "outputs": [],
      "source": [
        "# your code here"
      ]
    },
    {
      "cell_type": "markdown",
      "metadata": {
        "id": "imop6nNujA6z"
      },
      "source": [
        "2. (0.5 балла) найти количество информативных (не `None` или `unknown`) значений в этих колонках:"
      ]
    },
    {
      "cell_type": "code",
      "execution_count": null,
      "metadata": {
        "id": "jtJcBwAVjPHU"
      },
      "outputs": [],
      "source": [
        "# your code here"
      ]
    },
    {
      "cell_type": "markdown",
      "metadata": {
        "id": "wFbuTnkbjPeq"
      },
      "source": [
        "3. (0.5 балла) удалить данные колонки из датасета, сохранив изменения (в дальнейшем работаем измененным датасетом):"
      ]
    },
    {
      "cell_type": "code",
      "execution_count": null,
      "metadata": {
        "id": "qSZ5cmKWjutz"
      },
      "outputs": [],
      "source": [
        "# your code here"
      ]
    },
    {
      "cell_type": "markdown",
      "metadata": {
        "id": "JID3q4vr8-2h"
      },
      "source": [
        "(1 балл) Проделайте тоже самое для колонок, начинающихся с `culet_`:"
      ]
    },
    {
      "cell_type": "code",
      "execution_count": null,
      "metadata": {
        "id": "Wfsvzyad-T6P"
      },
      "outputs": [],
      "source": [
        "# your code here"
      ]
    },
    {
      "cell_type": "markdown",
      "metadata": {
        "id": "7_qYv5Xm-UCz"
      },
      "source": [
        "(1 балл) Посчитайте сколько бы стоил (в тысячах долларов) сейф, в котором хранились бы все бриллианты из датасета:"
      ]
    },
    {
      "cell_type": "code",
      "execution_count": null,
      "metadata": {
        "id": "g2wVyz5U-cx7"
      },
      "outputs": [],
      "source": [
        "# your code here"
      ]
    },
    {
      "cell_type": "markdown",
      "metadata": {
        "id": "GVwspHrUkRFv"
      },
      "source": [
        "Немного необоснованных манипуляций."
      ]
    },
    {
      "cell_type": "markdown",
      "metadata": {
        "id": "0j5Yr0mFxxfu"
      },
      "source": [
        "(1 балл) Выберите из датасета строки с четными индексами и выведете значения (не меняя нумерацию индексов):"
      ]
    },
    {
      "cell_type": "code",
      "execution_count": null,
      "metadata": {
        "id": "dW2GOROfx6yd"
      },
      "outputs": [],
      "source": [
        "# your code here"
      ]
    },
    {
      "cell_type": "markdown",
      "metadata": {
        "id": "mNXqS4oox7TF"
      },
      "source": [
        "(0.5 балла) А теперь с индексами, кратными 6:"
      ]
    },
    {
      "cell_type": "code",
      "execution_count": null,
      "metadata": {
        "id": "hy8LyzXix_SB"
      },
      "outputs": [],
      "source": [
        "# your code here"
      ]
    },
    {
      "cell_type": "markdown",
      "metadata": {
        "id": "u94LL979x_bV"
      },
      "source": [
        "(1 балл) Выберете из датасета только категорильные признаки и выведете датасет:"
      ]
    },
    {
      "cell_type": "code",
      "execution_count": null,
      "metadata": {
        "id": "2_LBNDWXyOOl"
      },
      "outputs": [],
      "source": [
        "# your code here"
      ]
    },
    {
      "cell_type": "markdown",
      "metadata": {
        "id": "QANg8ziJkHGM"
      },
      "source": [
        ">**Примечание**\n",
        ">\n",
        ">Данный датасет можно использовать для задания 3 (с использованием `sklearn`)"
      ]
    },
    {
      "cell_type": "markdown",
      "metadata": {
        "id": "mV9jLhspyOgz"
      },
      "source": [
        "(0.5 балла) Выберете столбец с данными о цене бриллиантов и домножите его на тот столбец, только транспонированный, и выведите полученную матрицу:"
      ]
    },
    {
      "cell_type": "code",
      "execution_count": null,
      "metadata": {
        "id": "LawjtnoIymFu"
      },
      "outputs": [],
      "source": [
        "# your code here"
      ]
    },
    {
      "cell_type": "markdown",
      "metadata": {
        "id": "Pz02uapbkbGk"
      },
      "source": [
        "### Построение графиков"
      ]
    },
    {
      "cell_type": "markdown",
      "metadata": {
        "id": "_zhww-rd-c5c"
      },
      "source": [
        "**Требования к графику:**\n",
        "\n",
        "1.   График должен быть подписан\n",
        "2.   Оси должны быть подписаны\n",
        "3.   Должна быть легенда графика\n",
        "4.   График должен быть информативным (желательно без сильных выбросов)\n",
        "\n",
        "**Все надписи на русском языке!**"
      ]
    },
    {
      "cell_type": "markdown",
      "metadata": {
        "id": "mfebCvk0k2mo"
      },
      "source": [
        ">**Примечание**\n",
        ">\n",
        ">График необходимо строить для очищенных данных - в них не должно быть пропусков по осям, по которым строите график. При этом **не перезатирайте** имеющийся датафрейм!"
      ]
    },
    {
      "cell_type": "markdown",
      "metadata": {
        "id": "4R9Rwxdq-l21"
      },
      "source": [
        "(2 балла) Постройте график `цвет бриллианта - стоимость`:"
      ]
    },
    {
      "cell_type": "code",
      "execution_count": null,
      "metadata": {
        "id": "Fo6I0j5o-vQh"
      },
      "outputs": [],
      "source": [
        "# your code here"
      ]
    },
    {
      "cell_type": "markdown",
      "metadata": {
        "id": "W_UgFji5-vWx"
      },
      "source": [
        "(2 балла) Постройте график `лабараторная оценка - кол-во бриллиантов`:"
      ]
    },
    {
      "cell_type": "code",
      "execution_count": null,
      "metadata": {
        "id": "nyT8-TRb_c24"
      },
      "outputs": [],
      "source": [
        "# your code here"
      ]
    },
    {
      "cell_type": "markdown",
      "metadata": {
        "id": "AgsMclnJ_c9H"
      },
      "source": [
        "(2 балла) Постройте график `вес бриллианта - стоимость`:"
      ]
    },
    {
      "cell_type": "code",
      "execution_count": null,
      "metadata": {
        "id": "tn-x3pwmANQe"
      },
      "outputs": [],
      "source": [
        "# your code here"
      ]
    },
    {
      "cell_type": "markdown",
      "metadata": {
        "id": "0LVC1KfEAwuw"
      },
      "source": [
        "(2 балла) Постройте график `система оценки GIA Cut - кол-во бриллиантов`:"
      ]
    },
    {
      "cell_type": "code",
      "execution_count": null,
      "metadata": {
        "id": "IeuLooSIA232"
      },
      "outputs": [],
      "source": [
        "# your code here"
      ]
    },
    {
      "cell_type": "markdown",
      "metadata": {
        "id": "DRaaNLidFDhL"
      },
      "source": [
        "(2 балла) **Сделайте выводы по построенным графикам:**"
      ]
    },
    {
      "cell_type": "markdown",
      "metadata": {
        "id": "GSuWCfdGLtn0"
      },
      "source": [
        ">*Подсказка для маленьких: Что вы можете сказать о графиках полученных выше для данного датасета?*"
      ]
    },
    {
      "cell_type": "markdown",
      "metadata": {
        "id": "iNdjR_X9lSt1"
      },
      "source": [
        "Ваши выводы здесь :)"
      ]
    },
    {
      "cell_type": "markdown",
      "metadata": {
        "id": "JKYRkX_rBxxu"
      },
      "source": [
        "## Задание 3. Модель - 30 баллов"
      ]
    },
    {
      "cell_type": "markdown",
      "metadata": {
        "id": "EJO9SwpII_uJ"
      },
      "source": [
        "В данном задании вам предстоит построить классифицирующую модель размер алмаза и его стоимости, а затем оценить полученную модель."
      ]
    },
    {
      "cell_type": "markdown",
      "metadata": {
        "id": "_8sA1qlRllrk"
      },
      "source": [
        ">**Примечание**\n",
        ">\n",
        ">Данная модель не претендует на самый верный индикатор стоимости алмаза, ведь мы не учитываем ничего больше чем стоимость алмаза. Исключительно для образовательных целей :)"
      ]
    },
    {
      "cell_type": "markdown",
      "metadata": {
        "id": "e78rVEGFJrVN"
      },
      "source": [
        "Для построения модели нам понадобится 4 столбца, а именно:\n",
        "- `meas_length`\n",
        "- `meas_width`\n",
        "- `meas_depth`\n",
        "- `total_sales_price`\n",
        "\n",
        "От остальных столбцов можно избавиться."
      ]
    },
    {
      "cell_type": "markdown",
      "metadata": {
        "id": "HhpeXcR1l-Ag"
      },
      "source": [
        "(1 балл) Создайте новый датасет и выведите его первые 10 строк:"
      ]
    },
    {
      "cell_type": "code",
      "execution_count": null,
      "metadata": {
        "id": "K87VXeCxKFrU"
      },
      "outputs": [],
      "source": [
        "# your code here"
      ]
    },
    {
      "cell_type": "markdown",
      "metadata": {
        "id": "Uex8DVspKFxn"
      },
      "source": [
        "(1 балл) Перемешайте строки в датафрейме случайным образом:"
      ]
    },
    {
      "cell_type": "code",
      "execution_count": null,
      "metadata": {
        "id": "5lRYIwGOKOnT"
      },
      "outputs": [],
      "source": [
        "# your code here"
      ]
    },
    {
      "cell_type": "markdown",
      "metadata": {
        "id": "iEHBNONDLl64"
      },
      "source": [
        "(1 балл) Сформируем новую колонку - для каждого бриллианта найдем сумму Минковского (p=3) по 3 измерениям бриллианта:"
      ]
    },
    {
      "cell_type": "code",
      "execution_count": null,
      "metadata": {
        "id": "V3CTAQbAMQsR"
      },
      "outputs": [],
      "source": [
        "# your code here"
      ]
    },
    {
      "cell_type": "markdown",
      "metadata": {
        "id": "z5s5_yB8n1Hp"
      },
      "source": [
        "(1 балл) Сформируем новый датасет из двух колонок - сумма Минковского и `total_sales_price`:"
      ]
    },
    {
      "cell_type": "code",
      "execution_count": null,
      "metadata": {
        "id": "tXxZnWS7n9q0"
      },
      "outputs": [],
      "source": [
        "# your code here"
      ]
    },
    {
      "cell_type": "markdown",
      "metadata": {
        "id": "aXCp0GmUKOvM"
      },
      "source": [
        "(1 балл) Разделите вашу выборку на две части в соотношении 8:2 - одна выборка будет для тренировка, а другая для тестов вашей модели:"
      ]
    },
    {
      "cell_type": "code",
      "execution_count": null,
      "metadata": {
        "id": "rxwHhdnFK3Lz"
      },
      "outputs": [],
      "source": [
        "# your code here"
      ]
    },
    {
      "cell_type": "markdown",
      "metadata": {
        "id": "lhuRoIMRK3S3"
      },
      "source": [
        "(2 балла) Постройте график зависимости стоимости от вашего нового параметра размера для тренинг-выборки:"
      ]
    },
    {
      "cell_type": "code",
      "execution_count": null,
      "metadata": {
        "id": "zdXv0wimNNZq"
      },
      "outputs": [],
      "source": [
        "# your code here"
      ]
    },
    {
      "cell_type": "markdown",
      "metadata": {
        "id": "0cUx_FSiNOUx"
      },
      "source": [
        "(2 балла) Нанесите на тот же график тестовую выборку, используя другой цвет (не забудьте про параметр прозрачности):"
      ]
    },
    {
      "cell_type": "code",
      "execution_count": null,
      "metadata": {
        "id": "R09w4W7VNnM2"
      },
      "outputs": [],
      "source": [
        "# your code here"
      ]
    },
    {
      "cell_type": "markdown",
      "metadata": {
        "id": "VwIIccnpNnVj"
      },
      "source": [
        "(3 балла) Найдите для каждой бриллианта из тестовой выборки его \"ближайшего соседа\" из тренинг-выборки. Для каждого бриллианта из тестовой выборки найдите расстояния до соответствующего ближайшего соседа:"
      ]
    },
    {
      "cell_type": "code",
      "execution_count": null,
      "metadata": {
        "id": "t_jpKJ54OBb0"
      },
      "outputs": [],
      "source": [
        "# your code here"
      ]
    },
    {
      "cell_type": "markdown",
      "metadata": {
        "id": "7R0uaHqurV_u"
      },
      "source": [
        "(3 балла) Найдите насколько сильно (в процентах) отличается цена бриллиантов из тестовой выборки от их соответствующих ближайших соседей:"
      ]
    },
    {
      "cell_type": "code",
      "execution_count": null,
      "metadata": {
        "id": "Uy2ngWJ4rn-4"
      },
      "outputs": [],
      "source": [
        "# your code here"
      ]
    },
    {
      "cell_type": "markdown",
      "metadata": {
        "id": "tl0CHY6_OAxU"
      },
      "source": [
        "**Данная модель является выдумкой автора. Не важен коэффициент ошибки, важны ваши шаги для получения коэффициента.**"
      ]
    },
    {
      "cell_type": "markdown",
      "metadata": {
        "id": "AbrAdKSUrqz5"
      },
      "source": [
        "### Введение в машинное обучение"
      ]
    },
    {
      "cell_type": "markdown",
      "metadata": {
        "id": "I6sqXZLYuox4"
      },
      "source": [
        "Теперь давайте познакомимся с таким сильным инструментом как `sklearn`."
      ]
    },
    {
      "cell_type": "markdown",
      "metadata": {
        "id": "q4OpdbhwsuAX"
      },
      "source": [
        "Вам необходимо:\n",
        "1. выбрать 2 категориальных признака\n",
        "2. на их основе обучить решающее дерево\n",
        "3. оценить среднеквадратичную ошибку цены бриллианта\n",
        "4. сделать пп. 1-3 и выбрать ту пару, которая дает лучший результат\n",
        "5. сделать выводы"
      ]
    },
    {
      "cell_type": "markdown",
      "metadata": {
        "id": "rScraaVSxQlT"
      },
      "source": [
        "(3 балла) Мы работаем с категориальными признаками, для них не понятно что есть \"больше\" и \"меньше\". Поэтому нам нужно предварительно закодировать значения наших признаков, с чем нам поможет [OneHotEncoder](https://scikit-learn.org/stable/modules/generated/sklearn.preprocessing.OneHotEncoder.html):"
      ]
    },
    {
      "cell_type": "code",
      "execution_count": null,
      "metadata": {
        "id": "G8hDstLlxjry"
      },
      "outputs": [],
      "source": [
        "# your code here"
      ]
    },
    {
      "cell_type": "markdown",
      "metadata": {
        "id": "ig8t-nmRvojA"
      },
      "source": [
        "(3 балла) Разбейте датасет на обучающую и тестовую выбору. Для этого вам поможет [train_test_split](https://scikit-learn.org/stable/modules/generated/sklearn.model_selection.train_test_split.html):"
      ]
    },
    {
      "cell_type": "code",
      "execution_count": null,
      "metadata": {
        "id": "ChVKP43AwY8i"
      },
      "outputs": [],
      "source": [
        "# your code here"
      ]
    },
    {
      "cell_type": "markdown",
      "metadata": {
        "id": "gbv2zLpkwZsq"
      },
      "source": [
        "(3 балла) Затем создайте и обучите вашу модель - [DecisionTreeRegressor](https://scikit-learn.org/stable/modules/generated/sklearn.tree.DecisionTreeRegressor.html):"
      ]
    },
    {
      "cell_type": "code",
      "execution_count": null,
      "metadata": {
        "id": "Qfvv2j6Sws8p"
      },
      "outputs": [],
      "source": [
        "# your code here"
      ]
    },
    {
      "cell_type": "markdown",
      "metadata": {
        "id": "nUvBoY1pwtIv"
      },
      "source": [
        "(3 балла) Оцените ошибку вашей модели при помощи [mean_squared_error](https://scikit-learn.org/stable/modules/generated/sklearn.metrics.mean_squared_error.html):"
      ]
    },
    {
      "cell_type": "code",
      "execution_count": null,
      "metadata": {
        "id": "q946oHPaxGA4"
      },
      "outputs": [],
      "source": [
        "# your code here"
      ]
    },
    {
      "cell_type": "markdown",
      "metadata": {
        "id": "scWwHLEKxGPl"
      },
      "source": [
        "(3 балла) **Сделайте выводы какие категориальные признаки лучше:**"
      ]
    },
    {
      "cell_type": "markdown",
      "metadata": {
        "id": "djE6Ke2bL5WS"
      },
      "source": [
        "*Подсказки для маленьких: Что вы можете сказать о зависимости по вашей выборке признаков? Какой вы можете сделать вывод об готовых инструментах для работы и написанных Вами?*"
      ]
    },
    {
      "cell_type": "markdown",
      "metadata": {
        "id": "lu36_N58uvui"
      },
      "source": [
        "Ваши выводы здесь :)"
      ]
    }
  ],
  "metadata": {
    "colab": {
      "provenance": []
    },
    "kernelspec": {
      "display_name": "Python 3",
      "name": "python3"
    },
    "language_info": {
      "codemirror_mode": {
        "name": "ipython",
        "version": 3
      },
      "file_extension": ".py",
      "mimetype": "text/x-python",
      "name": "python",
      "nbconvert_exporter": "python",
      "pygments_lexer": "ipython3",
      "version": "3.12.3"
    }
  },
  "nbformat": 4,
  "nbformat_minor": 0
}
